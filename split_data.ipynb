{
 "cells": [
  {
   "cell_type": "code",
   "execution_count": null,
   "id": "618c8d63",
   "metadata": {},
   "outputs": [],
   "source": [
    "import numpy as np\n",
    "import pandas as pd\n",
    "import os"
   ]
  },
  {
   "cell_type": "code",
   "execution_count": null,
   "id": "b09f1d4f",
   "metadata": {},
   "outputs": [],
   "source": [
    "articles = pd.read_csv(\"h-and-m-personalized-fashion-recommendations/articles.csv\")\n",
    "customers = pd.read_csv(\"h-and-m-personalized-fashion-recommendations/customers.csv\")\n",
    "transactions = pd.read_csv(\"h-and-m-personalized-fashion-recommendations/transactions_train.csv\",)\n",
    "\n"
   ]
  },
  {
   "cell_type": "code",
   "execution_count": null,
   "id": "323a343b",
   "metadata": {},
   "outputs": [],
   "source": [
    "transactions.shape"
   ]
  },
  {
   "cell_type": "code",
   "execution_count": null,
   "id": "de40e082",
   "metadata": {},
   "outputs": [],
   "source": [
    "min_date = transactions.t_dat.min()\n",
    "max_date = transactions.t_dat.max()\n",
    "\n",
    "dates = [i.date() for i in pd.date_range(min_date, max_date)]\n",
    "\n",
    "dates = pd.DataFrame(dates , columns=['t_dat'])\n",
    "\n",
    "dates['day_num'] = np.array(dates.index)[::-1]\n",
    "dates['week_num'] = dates['day_num'] // 7\n",
    "\n",
    "dates = dates[['t_dat','week_num']]\n",
    "\n",
    "dates['t_dat'] = dates.t_dat.apply(str)\n",
    "\n",
    "transactions = transactions.merge(dates, left_on='t_dat', right_on='t_dat', how='left')\n",
    "\n",
    "week_startdate = pd.DataFrame(dates.groupby('week_num')['t_dat'].min()).reset_index()"
   ]
  },
  {
   "cell_type": "code",
   "execution_count": null,
   "id": "edf9db25",
   "metadata": {},
   "outputs": [],
   "source": [
    "def split_train_vaid(transactions, split_week_num):\n",
    "    \n",
    "    valid_tr = transactions[transactions.week_num == split_week_num]\n",
    "    train_tr = transactions[transactions.week_num > split_week_num]\n",
    "\n",
    "    valid_tr = pd.DataFrame(valid_tr.groupby('customer_id')['article_id'].apply(list)).reset_index()\n",
    "\n",
    "    valid_tr['article_id'] = valid_tr['article_id'].map(lambda x: '0'+' 0'.join(str(x)[1:-1].split(', ')))\n",
    "    \n",
    "    return train_tr, valid_tr\n",
    "\n"
   ]
  },
  {
   "cell_type": "code",
   "execution_count": null,
   "id": "b7b7f1eb",
   "metadata": {},
   "outputs": [],
   "source": [
    "\n",
    "split_week_num = 0\n",
    "train_tr, valid_tr = split_train_vaid(transactions, split_week_num)\n"
   ]
  },
  {
   "cell_type": "code",
   "execution_count": null,
   "id": "e0a47164",
   "metadata": {},
   "outputs": [],
   "source": [
    "\n",
    "data_folder = './h-and-m-personalized-fashion-recommendations/sampled_data'\n",
    "os.makedirs(data_folder,exist_ok=True)\n",
    "train_tr.to_csv(f'{data_folder}/train_{split_week_num}.csv', index=False)\n",
    "valid_tr.to_csv(f'{data_folder}/valid_{split_week_num}.csv', index=False)\n",
    "# dates.to_csv(f'{data_folder}/date2week_num.csv')\n"
   ]
  },
  {
   "cell_type": "code",
   "execution_count": null,
   "id": "515e6ef1",
   "metadata": {},
   "outputs": [],
   "source": [
    "valid_tr.to_csv(f'{data_folder}/valid_{split_week_num}.csv', index=False)"
   ]
  }
 ],
 "metadata": {
  "kernelspec": {
   "display_name": "py39",
   "language": "python",
   "name": "py39"
  },
  "language_info": {
   "codemirror_mode": {
    "name": "ipython",
    "version": 3
   },
   "file_extension": ".py",
   "mimetype": "text/x-python",
   "name": "python",
   "nbconvert_exporter": "python",
   "pygments_lexer": "ipython3",
   "version": "3.9.0"
  }
 },
 "nbformat": 4,
 "nbformat_minor": 5
}
