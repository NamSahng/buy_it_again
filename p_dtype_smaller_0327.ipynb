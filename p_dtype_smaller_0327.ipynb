{
 "cells": [
  {
   "cell_type": "code",
   "execution_count": 12,
   "id": "88fd3886",
   "metadata": {},
   "outputs": [],
   "source": [
    "import os\n",
    "import numpy as np \n",
    "import pandas as pd\n",
    "from joblib import dump, load\n",
    "from sklearn import preprocessing\n"
   ]
  },
  {
   "cell_type": "code",
   "execution_count": 13,
   "id": "803d6422",
   "metadata": {},
   "outputs": [],
   "source": [
    "articles = pd.read_csv(\"h-and-m-personalized-fashion-recommendations/articles.csv\")\n",
    "customers = pd.read_csv(\"h-and-m-personalized-fashion-recommendations/customers.csv\")\n",
    "transactions = pd.read_csv(\"h-and-m-personalized-fashion-recommendations/transactions_train.csv\",)\n"
   ]
  },
  {
   "cell_type": "code",
   "execution_count": 14,
   "id": "7e4059ca",
   "metadata": {},
   "outputs": [
    {
     "data": {
      "text/plain": [
       "LabelEncoder()"
      ]
     },
     "execution_count": 14,
     "metadata": {},
     "output_type": "execute_result"
    }
   ],
   "source": [
    "\n",
    "le_articles = preprocessing.LabelEncoder()\n",
    "le_customers = preprocessing.LabelEncoder()\n",
    "le_articles.fit(articles.article_id.unique())\n",
    "le_customers.fit(customers.customer_id.unique())\n"
   ]
  },
  {
   "cell_type": "code",
   "execution_count": 15,
   "id": "8744f66e",
   "metadata": {},
   "outputs": [],
   "source": [
    "transactions['customer_id'] = le_customers.transform(transactions['customer_id'])\n",
    "transactions['article_id'] = le_articles.transform(transactions['article_id'])\n",
    "\n",
    "customers['customer_id'] = le_customers.transform(customers['customer_id'])\n",
    "articles['article_id'] = le_articles.transform(articles['article_id'])\n",
    "\n"
   ]
  },
  {
   "cell_type": "code",
   "execution_count": 17,
   "id": "b0e457fb",
   "metadata": {},
   "outputs": [
    {
     "name": "stdout",
     "output_type": "stream",
     "text": [
      "0\n",
      "105539\n",
      "0\n",
      "1371979\n"
     ]
    }
   ],
   "source": [
    "print(transactions.article_id.min())\n",
    "print(transactions.article_id.max())\n",
    "print(transactions.customer_id.min())\n",
    "print(transactions.customer_id.max())"
   ]
  },
  {
   "cell_type": "code",
   "execution_count": 18,
   "id": "fed4474d",
   "metadata": {},
   "outputs": [],
   "source": [
    "transactions['article_id'] = transactions['article_id'].astype(np.int32)\n",
    "transactions['customer_id'] = transactions['customer_id'].astype(np.int32)\n",
    "transactions['sales_channel_id'] = transactions['sales_channel_id'].astype('int8')\n",
    "transactions['price'] = transactions['price'].astype('float32')\n"
   ]
  },
  {
   "cell_type": "code",
   "execution_count": 19,
   "id": "e39ef203",
   "metadata": {},
   "outputs": [
    {
     "data": {
      "text/html": [
       "<div>\n",
       "<style scoped>\n",
       "    .dataframe tbody tr th:only-of-type {\n",
       "        vertical-align: middle;\n",
       "    }\n",
       "\n",
       "    .dataframe tbody tr th {\n",
       "        vertical-align: top;\n",
       "    }\n",
       "\n",
       "    .dataframe thead th {\n",
       "        text-align: right;\n",
       "    }\n",
       "</style>\n",
       "<table border=\"1\" class=\"dataframe\">\n",
       "  <thead>\n",
       "    <tr style=\"text-align: right;\">\n",
       "      <th></th>\n",
       "      <th>t_dat</th>\n",
       "      <th>customer_id</th>\n",
       "      <th>article_id</th>\n",
       "      <th>price</th>\n",
       "      <th>sales_channel_id</th>\n",
       "    </tr>\n",
       "  </thead>\n",
       "  <tbody>\n",
       "    <tr>\n",
       "      <th>0</th>\n",
       "      <td>2018-09-20</td>\n",
       "      <td>2</td>\n",
       "      <td>40179</td>\n",
       "      <td>0.050831</td>\n",
       "      <td>2</td>\n",
       "    </tr>\n",
       "    <tr>\n",
       "      <th>1</th>\n",
       "      <td>2018-09-20</td>\n",
       "      <td>2</td>\n",
       "      <td>10520</td>\n",
       "      <td>0.030492</td>\n",
       "      <td>2</td>\n",
       "    </tr>\n",
       "    <tr>\n",
       "      <th>2</th>\n",
       "      <td>2018-09-20</td>\n",
       "      <td>7</td>\n",
       "      <td>6387</td>\n",
       "      <td>0.015237</td>\n",
       "      <td>2</td>\n",
       "    </tr>\n",
       "    <tr>\n",
       "      <th>3</th>\n",
       "      <td>2018-09-20</td>\n",
       "      <td>7</td>\n",
       "      <td>46304</td>\n",
       "      <td>0.016932</td>\n",
       "      <td>2</td>\n",
       "    </tr>\n",
       "    <tr>\n",
       "      <th>4</th>\n",
       "      <td>2018-09-20</td>\n",
       "      <td>7</td>\n",
       "      <td>46305</td>\n",
       "      <td>0.016932</td>\n",
       "      <td>2</td>\n",
       "    </tr>\n",
       "  </tbody>\n",
       "</table>\n",
       "</div>"
      ],
      "text/plain": [
       "        t_dat  customer_id  article_id     price  sales_channel_id\n",
       "0  2018-09-20            2       40179  0.050831                 2\n",
       "1  2018-09-20            2       10520  0.030492                 2\n",
       "2  2018-09-20            7        6387  0.015237                 2\n",
       "3  2018-09-20            7       46304  0.016932                 2\n",
       "4  2018-09-20            7       46305  0.016932                 2"
      ]
     },
     "execution_count": 19,
     "metadata": {},
     "output_type": "execute_result"
    }
   ],
   "source": [
    "transactions.head()"
   ]
  },
  {
   "cell_type": "code",
   "execution_count": 20,
   "id": "c843b588",
   "metadata": {},
   "outputs": [
    {
     "data": {
      "text/plain": [
       "t_dat                object\n",
       "customer_id           int32\n",
       "article_id            int32\n",
       "price               float32\n",
       "sales_channel_id       int8\n",
       "dtype: object"
      ]
     },
     "execution_count": 20,
     "metadata": {},
     "output_type": "execute_result"
    }
   ],
   "source": [
    "transactions.dtypes"
   ]
  },
  {
   "cell_type": "code",
   "execution_count": 21,
   "id": "eb39ac9d",
   "metadata": {},
   "outputs": [],
   "source": [
    "folder = './h-and-m-personalized-fashion-recommendations/'\n",
    "\n",
    "dump(le_articles, os.path.join(folder, 'le_articles.joblib'))\n",
    "dump(le_customers, os.path.join(folder, 'le_customers.joblib'))\n",
    "\n",
    "transactions.to_csv(os.path.join(folder, 'transaction_le.csv'), index= False)\n",
    "customers.to_csv(os.path.join(folder, 'customers_le.csv'), index= False)\n",
    "articles.to_csv(os.path.join(folder, 'articles_le.csv'), index= False)\n"
   ]
  },
  {
   "cell_type": "markdown",
   "id": "9ba43c9f",
   "metadata": {},
   "source": [
    "# load smaller data"
   ]
  },
  {
   "cell_type": "code",
   "execution_count": 3,
   "id": "e4ad46b2",
   "metadata": {},
   "outputs": [],
   "source": [
    "import os\n",
    "import numpy as np \n",
    "import pandas as pd\n",
    "from joblib import dump, load\n",
    "from sklearn import preprocessing"
   ]
  },
  {
   "cell_type": "code",
   "execution_count": 4,
   "id": "f1886c32",
   "metadata": {},
   "outputs": [],
   "source": [
    "folder = './h-and-m-personalized-fashion-recommendations/'\n",
    "tr = pd.read_csv(os.path.join(folder, 'transaction_le.csv'))\n",
    "cus = pd.read_csv(os.path.join(folder, 'customers_le.csv'))\n",
    "art = pd.read_csv(os.path.join(folder, 'articles_le.csv'))\n",
    "\n",
    "le_articles = load(os.path.join(folder, 'le_articles.joblib'))\n",
    "le_customers = load(os.path.join(folder, 'le_customers.joblib'))"
   ]
  },
  {
   "cell_type": "code",
   "execution_count": 5,
   "id": "b51b9d52",
   "metadata": {},
   "outputs": [
    {
     "data": {
      "text/html": [
       "<div>\n",
       "<style scoped>\n",
       "    .dataframe tbody tr th:only-of-type {\n",
       "        vertical-align: middle;\n",
       "    }\n",
       "\n",
       "    .dataframe tbody tr th {\n",
       "        vertical-align: top;\n",
       "    }\n",
       "\n",
       "    .dataframe thead th {\n",
       "        text-align: right;\n",
       "    }\n",
       "</style>\n",
       "<table border=\"1\" class=\"dataframe\">\n",
       "  <thead>\n",
       "    <tr style=\"text-align: right;\">\n",
       "      <th></th>\n",
       "      <th>t_dat</th>\n",
       "      <th>customer_id</th>\n",
       "      <th>article_id</th>\n",
       "      <th>price</th>\n",
       "      <th>sales_channel_id</th>\n",
       "    </tr>\n",
       "  </thead>\n",
       "  <tbody>\n",
       "    <tr>\n",
       "      <th>0</th>\n",
       "      <td>2018-09-20</td>\n",
       "      <td>2</td>\n",
       "      <td>40179</td>\n",
       "      <td>0.050831</td>\n",
       "      <td>2</td>\n",
       "    </tr>\n",
       "    <tr>\n",
       "      <th>1</th>\n",
       "      <td>2018-09-20</td>\n",
       "      <td>2</td>\n",
       "      <td>10520</td>\n",
       "      <td>0.030492</td>\n",
       "      <td>2</td>\n",
       "    </tr>\n",
       "    <tr>\n",
       "      <th>2</th>\n",
       "      <td>2018-09-20</td>\n",
       "      <td>7</td>\n",
       "      <td>6387</td>\n",
       "      <td>0.015237</td>\n",
       "      <td>2</td>\n",
       "    </tr>\n",
       "    <tr>\n",
       "      <th>3</th>\n",
       "      <td>2018-09-20</td>\n",
       "      <td>7</td>\n",
       "      <td>46304</td>\n",
       "      <td>0.016932</td>\n",
       "      <td>2</td>\n",
       "    </tr>\n",
       "    <tr>\n",
       "      <th>4</th>\n",
       "      <td>2018-09-20</td>\n",
       "      <td>7</td>\n",
       "      <td>46305</td>\n",
       "      <td>0.016932</td>\n",
       "      <td>2</td>\n",
       "    </tr>\n",
       "  </tbody>\n",
       "</table>\n",
       "</div>"
      ],
      "text/plain": [
       "        t_dat  customer_id  article_id     price  sales_channel_id\n",
       "0  2018-09-20            2       40179  0.050831                 2\n",
       "1  2018-09-20            2       10520  0.030492                 2\n",
       "2  2018-09-20            7        6387  0.015237                 2\n",
       "3  2018-09-20            7       46304  0.016932                 2\n",
       "4  2018-09-20            7       46305  0.016932                 2"
      ]
     },
     "execution_count": 5,
     "metadata": {},
     "output_type": "execute_result"
    }
   ],
   "source": [
    "tr.head()"
   ]
  },
  {
   "cell_type": "code",
   "execution_count": 6,
   "id": "c40f1531",
   "metadata": {},
   "outputs": [],
   "source": [
    "tr['article_id'] = tr['article_id'].astype(np.int32)\n",
    "tr['customer_id'] = tr['customer_id'].astype(np.int32)\n",
    "tr['sales_channel_id'] = tr['sales_channel_id'].astype('int8')\n",
    "tr['price'] = tr['price'].astype('float32')\n"
   ]
  },
  {
   "cell_type": "code",
   "execution_count": 7,
   "id": "630cc23d",
   "metadata": {},
   "outputs": [],
   "source": [
    "tr['buy'] = 1"
   ]
  },
  {
   "cell_type": "code",
   "execution_count": 8,
   "id": "4ebb02b2",
   "metadata": {},
   "outputs": [
    {
     "data": {
      "text/html": [
       "<div>\n",
       "<style scoped>\n",
       "    .dataframe tbody tr th:only-of-type {\n",
       "        vertical-align: middle;\n",
       "    }\n",
       "\n",
       "    .dataframe tbody tr th {\n",
       "        vertical-align: top;\n",
       "    }\n",
       "\n",
       "    .dataframe thead th {\n",
       "        text-align: right;\n",
       "    }\n",
       "</style>\n",
       "<table border=\"1\" class=\"dataframe\">\n",
       "  <thead>\n",
       "    <tr style=\"text-align: right;\">\n",
       "      <th></th>\n",
       "      <th>t_dat</th>\n",
       "      <th>customer_id</th>\n",
       "      <th>article_id</th>\n",
       "      <th>price</th>\n",
       "      <th>sales_channel_id</th>\n",
       "      <th>buy</th>\n",
       "    </tr>\n",
       "  </thead>\n",
       "  <tbody>\n",
       "    <tr>\n",
       "      <th>0</th>\n",
       "      <td>2018-09-20</td>\n",
       "      <td>2</td>\n",
       "      <td>40179</td>\n",
       "      <td>0.050831</td>\n",
       "      <td>2</td>\n",
       "      <td>1</td>\n",
       "    </tr>\n",
       "    <tr>\n",
       "      <th>1</th>\n",
       "      <td>2018-09-20</td>\n",
       "      <td>2</td>\n",
       "      <td>10520</td>\n",
       "      <td>0.030492</td>\n",
       "      <td>2</td>\n",
       "      <td>1</td>\n",
       "    </tr>\n",
       "    <tr>\n",
       "      <th>2</th>\n",
       "      <td>2018-09-20</td>\n",
       "      <td>7</td>\n",
       "      <td>6387</td>\n",
       "      <td>0.015237</td>\n",
       "      <td>2</td>\n",
       "      <td>1</td>\n",
       "    </tr>\n",
       "    <tr>\n",
       "      <th>3</th>\n",
       "      <td>2018-09-20</td>\n",
       "      <td>7</td>\n",
       "      <td>46304</td>\n",
       "      <td>0.016932</td>\n",
       "      <td>2</td>\n",
       "      <td>1</td>\n",
       "    </tr>\n",
       "    <tr>\n",
       "      <th>4</th>\n",
       "      <td>2018-09-20</td>\n",
       "      <td>7</td>\n",
       "      <td>46305</td>\n",
       "      <td>0.016932</td>\n",
       "      <td>2</td>\n",
       "      <td>1</td>\n",
       "    </tr>\n",
       "  </tbody>\n",
       "</table>\n",
       "</div>"
      ],
      "text/plain": [
       "        t_dat  customer_id  article_id     price  sales_channel_id  buy\n",
       "0  2018-09-20            2       40179  0.050831                 2    1\n",
       "1  2018-09-20            2       10520  0.030492                 2    1\n",
       "2  2018-09-20            7        6387  0.015237                 2    1\n",
       "3  2018-09-20            7       46304  0.016932                 2    1\n",
       "4  2018-09-20            7       46305  0.016932                 2    1"
      ]
     },
     "execution_count": 8,
     "metadata": {},
     "output_type": "execute_result"
    }
   ],
   "source": [
    "tr.head()"
   ]
  },
  {
   "cell_type": "code",
   "execution_count": 9,
   "id": "aacca49c",
   "metadata": {},
   "outputs": [],
   "source": [
    "tr['t_dat'] = pd.to_datetime(tr['t_dat'], format=\"%Y-%m-%d\")"
   ]
  }
 ],
 "metadata": {
  "kernelspec": {
   "display_name": "py39",
   "language": "python",
   "name": "py39"
  },
  "language_info": {
   "codemirror_mode": {
    "name": "ipython",
    "version": 3
   },
   "file_extension": ".py",
   "mimetype": "text/x-python",
   "name": "python",
   "nbconvert_exporter": "python",
   "pygments_lexer": "ipython3",
   "version": "3.9.0"
  }
 },
 "nbformat": 4,
 "nbformat_minor": 5
}
