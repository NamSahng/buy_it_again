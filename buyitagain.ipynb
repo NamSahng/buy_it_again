{
 "cells": [
  {
   "cell_type": "markdown",
   "id": "797f4a42",
   "metadata": {},
   "source": [
    "# Buy it Again\n",
    "\n",
    "\n",
    "## RCP - Repeat Customer Probability\n",
    "\n",
    "- 상품 A를 2번 이상 고매한 고객의 수 / 상품 A를 최소 한번이라도 구매한 고객 수"
   ]
  },
  {
   "cell_type": "code",
   "execution_count": 1,
   "id": "3f7ddb6d",
   "metadata": {},
   "outputs": [],
   "source": [
    "import os\n",
    "import gc\n",
    "\n",
    "import numpy as np\n",
    "import pandas as pd\n",
    "import matplotlib.pyplot as plt\n",
    "\n",
    "from tqdm import tqdm\n",
    "from scipy.optimize import curve_fit\n",
    "from joblib import dump, load\n",
    "import scipy.stats as stats\n",
    "tqdm.pandas()\n"
   ]
  },
  {
   "cell_type": "code",
   "execution_count": 2,
   "id": "0ccbe5fe",
   "metadata": {},
   "outputs": [],
   "source": [
    "sample_folder = './h-and-m-personalized-fashion-recommendations/sampled_data/'\n",
    "df = pd.read_csv(os.path.join(sample_folder, 'train_0.csv'))\n",
    "valid_sample = pd.read_csv(os.path.join(sample_folder, 'valid_0.csv'))\n",
    "\n",
    "folder = './h-and-m-personalized-fashion-recommendations/'\n",
    "le_articles = load(os.path.join(folder, 'le_articles.joblib'))\n",
    "le_customers = load(os.path.join(folder, 'le_customers.joblib'))\n",
    "\n"
   ]
  },
  {
   "cell_type": "code",
   "execution_count": 3,
   "id": "cb364bce",
   "metadata": {},
   "outputs": [],
   "source": [
    "df['customer_id'] = le_customers.transform(df['customer_id'])\n",
    "df['article_id'] = le_articles.transform(df['article_id'])\n",
    "\n",
    "df['article_id'] = df['article_id'].astype(np.int32)\n",
    "df['customer_id'] = df['customer_id'].astype(np.int32)\n",
    "df['sales_channel_id'] = df['sales_channel_id'].astype('int8')\n",
    "df['price'] = df['price'].astype('float32')\n",
    "\n",
    "df['t_dat'] = pd.to_datetime(df['t_dat'])"
   ]
  },
  {
   "cell_type": "code",
   "execution_count": 4,
   "id": "22a41f13",
   "metadata": {},
   "outputs": [],
   "source": [
    "\n",
    "## 동일상품 수량 2 이상 구매 합치기\n",
    "df = df.groupby(['article_id', 'customer_id','t_dat'])\n",
    "df_price = df.price.mean()\n",
    "df_price = pd.DataFrame(df_price)\n",
    "df_channel = df.sales_channel_id.max()\n",
    "\n",
    "df = pd.merge(df_price,df_channel, left_index=True, right_index=True, how=\"left\")\n",
    "df = df.reset_index()\n",
    "df['t_dat'] = pd.to_datetime(df['t_dat'])\n"
   ]
  },
  {
   "cell_type": "code",
   "execution_count": 5,
   "id": "b0063ec2",
   "metadata": {},
   "outputs": [],
   "source": [
    "grouped = df.groupby(['article_id', 'customer_id'])['t_dat'].count().reset_index()\n",
    "grouped = grouped.rename(columns={'t_dat': 'cnt'})\n",
    "\n",
    "grouped= grouped.sort_values('cnt', ascending= False)\n",
    "\n",
    "denom = pd.DataFrame(grouped.groupby('article_id')['customer_id'].nunique()).reset_index()\n",
    "denom = denom.rename(columns={'customer_id': 'denom_customer'})\n",
    "\n",
    "numer = pd.DataFrame(grouped[grouped.cnt > 1].groupby('article_id')['customer_id'].nunique()).reset_index()\n",
    "numer = numer.rename(columns={'customer_id': 'num_customer'})\n",
    "\n",
    "rcp_df = pd.merge(denom, numer, on= 'article_id')\n",
    "rcp_df['rcp'] = rcp_df['num_customer']/rcp_df['denom_customer']\n",
    "\n"
   ]
  },
  {
   "cell_type": "code",
   "execution_count": 6,
   "id": "8eaea4ee",
   "metadata": {},
   "outputs": [
    {
     "data": {
      "text/plain": [
       "<AxesSubplot:>"
      ]
     },
     "execution_count": 6,
     "metadata": {},
     "output_type": "execute_result"
    },
    {
     "data": {
      "image/png": "[encoded data removed]",
      "text/plain": [
       "<Figure size 432x288 with 1 Axes>"
      ]
     },
     "metadata": {
      "needs_background": "light"
     },
     "output_type": "display_data"
    }
   ],
   "source": [
    "rcp_df = rcp_df.sort_values('rcp')\n",
    "\n",
    "rcp_df['rcp'].hist(bins=500)\n"
   ]
  },
  {
   "cell_type": "code",
   "execution_count": 7,
   "id": "20ab8856",
   "metadata": {},
   "outputs": [
    {
     "data": {
      "text/html": [
       "<div>\n",
       "<style scoped>\n",
       "    .dataframe tbody tr th:only-of-type {\n",
       "        vertical-align: middle;\n",
       "    }\n",
       "\n",
       "    .dataframe tbody tr th {\n",
       "        vertical-align: top;\n",
       "    }\n",
       "\n",
       "    .dataframe thead th {\n",
       "        text-align: right;\n",
       "    }\n",
       "</style>\n",
       "<table border=\"1\" class=\"dataframe\">\n",
       "  <thead>\n",
       "    <tr style=\"text-align: right;\">\n",
       "      <th></th>\n",
       "      <th>customer_id</th>\n",
       "      <th>article_id</th>\n",
       "      <th>t_dat</th>\n",
       "      <th>price</th>\n",
       "      <th>sales_channel_id</th>\n",
       "      <th>shift_dat</th>\n",
       "      <th>dist</th>\n",
       "    </tr>\n",
       "  </thead>\n",
       "  <tbody>\n",
       "    <tr>\n",
       "      <th>0</th>\n",
       "      <td>0</td>\n",
       "      <td>99</td>\n",
       "      <td>2018-12-27</td>\n",
       "      <td>0.035576</td>\n",
       "      <td>1</td>\n",
       "      <td>NaT</td>\n",
       "      <td>NaN</td>\n",
       "    </tr>\n",
       "    <tr>\n",
       "      <th>1</th>\n",
       "      <td>0</td>\n",
       "      <td>16003</td>\n",
       "      <td>2019-05-25</td>\n",
       "      <td>0.050831</td>\n",
       "      <td>2</td>\n",
       "      <td>NaT</td>\n",
       "      <td>NaN</td>\n",
       "    </tr>\n",
       "    <tr>\n",
       "      <th>2</th>\n",
       "      <td>0</td>\n",
       "      <td>16023</td>\n",
       "      <td>2020-09-05</td>\n",
       "      <td>0.050831</td>\n",
       "      <td>1</td>\n",
       "      <td>NaT</td>\n",
       "      <td>NaN</td>\n",
       "    </tr>\n",
       "    <tr>\n",
       "      <th>3</th>\n",
       "      <td>0</td>\n",
       "      <td>23996</td>\n",
       "      <td>2019-07-25</td>\n",
       "      <td>0.012695</td>\n",
       "      <td>1</td>\n",
       "      <td>NaT</td>\n",
       "      <td>NaN</td>\n",
       "    </tr>\n",
       "    <tr>\n",
       "      <th>4</th>\n",
       "      <td>0</td>\n",
       "      <td>29516</td>\n",
       "      <td>2018-12-27</td>\n",
       "      <td>0.044051</td>\n",
       "      <td>1</td>\n",
       "      <td>NaT</td>\n",
       "      <td>NaN</td>\n",
       "    </tr>\n",
       "  </tbody>\n",
       "</table>\n",
       "</div>"
      ],
      "text/plain": [
       "   customer_id  article_id      t_dat     price  sales_channel_id shift_dat  \\\n",
       "0            0          99 2018-12-27  0.035576                 1       NaT   \n",
       "1            0       16003 2019-05-25  0.050831                 2       NaT   \n",
       "2            0       16023 2020-09-05  0.050831                 1       NaT   \n",
       "3            0       23996 2019-07-25  0.012695                 1       NaT   \n",
       "4            0       29516 2018-12-27  0.044051                 1       NaT   \n",
       "\n",
       "   dist  \n",
       "0   NaN  \n",
       "1   NaN  \n",
       "2   NaN  \n",
       "3   NaN  \n",
       "4   NaN  "
      ]
     },
     "execution_count": 7,
     "metadata": {},
     "output_type": "execute_result"
    }
   ],
   "source": [
    "df = df.set_index(['customer_id', 'article_id'])\n",
    "df = df.sort_values('t_dat')\n",
    "df = df.sort_index()\n",
    "\n",
    "df['shift_dat'] = df.groupby(level=[0,1])['t_dat'].shift(1)\n",
    "df['dist'] = (df['t_dat'] - df['shift_dat']).dt.days\n",
    "day_intervals = df.loc[df['dist'].notna(), 'dist'].values\n",
    "df = df.reset_index()\n",
    "df.head()"
   ]
  },
  {
   "cell_type": "code",
   "execution_count": 8,
   "id": "91d5e229",
   "metadata": {},
   "outputs": [
    {
     "name": "stdout",
     "output_type": "stream",
     "text": [
      "3311\n",
      "거래 비율 0.2012995139429118\n",
      "상품 비율 0.0318733153638814\n",
      "사용자 비율 0.700296821204842\n"
     ]
    }
   ],
   "source": [
    "\n",
    "\n",
    "repeat_purchaseable = rcp_df[(rcp_df.rcp > rcp_df.rcp.quantile(q=0.75)) &\n",
    "                             (rcp_df.num_customer > 30)].sort_values('rcp')\n",
    "\n",
    "\n",
    "print(len(repeat_purchaseable))\n",
    "\n",
    "tmp = df[df.article_id.isin(repeat_purchaseable.article_id.values)]\n",
    "\n",
    "print(\"거래 비율\", len(tmp)/len(df))\n",
    "print(\"상품 비율\", len(repeat_purchaseable)/len(df.article_id.unique()))\n",
    "print(\"사용자 비율\", (len(tmp.customer_id.unique())) / len(df.customer_id.unique()))"
   ]
  },
  {
   "cell_type": "code",
   "execution_count": 9,
   "id": "510d212a",
   "metadata": {},
   "outputs": [],
   "source": [
    "tmp= pd.merge(tmp, repeat_purchaseable[['article_id','rcp']], on='article_id' , how='left')\n",
    "\n"
   ]
  },
  {
   "cell_type": "markdown",
   "id": "67f6b0fd",
   "metadata": {},
   "source": [
    "# Modified Poisson-Gamma Model (MPG)\n",
    "\n",
    "\n",
    "- gamma: shape, rate = (1/scale)"
   ]
  },
  {
   "cell_type": "markdown",
   "id": "7c44979c",
   "metadata": {},
   "source": [
    "- 논문에서는 제품-고객마다 감마분포를 피팅하는 것으로 파악되지만, 의류제품 특성상 2번이상의 재구매가 대부분 이루어지지 않아 제품마다 감마분포를 추정하는 것으로 변경 \n",
    "\n",
    "- 감마 값 이상치 확인 필요: => $R_{A,C}$ 값이 너무 커져 최종 확률이 1보다 커짐\n",
    "    - 감마사전분포 피팅된 알파값이 너무 큰 경우\n",
    "    - t_purch가 작은 경우\n",
    "    - |t_mean-t| 가 작은 경우\n"
   ]
  },
  {
   "cell_type": "code",
   "execution_count": 11,
   "id": "b7b01f9f",
   "metadata": {},
   "outputs": [
    {
     "name": "stdout",
     "output_type": "stream",
     "text": [
      "53\n",
      "0.6510028578912692 0.9999999999999999 12.239398290697409\n"
     ]
    },
    {
     "data": {
      "image/png": "[encoded data removed]",
      "text/plain": [
       "<Figure size 432x432 with 1 Axes>"
      ]
     },
     "metadata": {
      "needs_background": "light"
     },
     "output_type": "display_data"
    }
   ],
   "source": [
    "item_idx = 6\n",
    "rp_items = repeat_purchaseable.article_id.values\n",
    "cur_item = rp_items[item_idx]\n",
    "\n",
    "# rp_customers = tmp[((tmp.article_id == cur_item) & (tmp.dist.notna()))].customer_id.unique()\n",
    "# for i in range(len(rp_customers)):\n",
    "#     cur_customer = rp_customers[i]\n",
    "#     cur_df = tmp[(tmp.article_id == cur_item) & (tmp.customer_id == cur_customer)]\n",
    "#     print(len(cur_df))\n",
    "\n",
    "\n",
    "cur_df = tmp[(tmp.article_id == cur_item)]\n",
    "\n",
    "cur_days = cur_df.dist.values\n",
    "cur_days = cur_days[~np.isnan(cur_days)]\n",
    "print(len(cur_days))\n",
    "shape, loc, scale = stats.gamma.fit(cur_days)\n",
    "print(shape, loc, scale)\n",
    "plt.figure(figsize=(6,6))\n",
    "stats.probplot(cur_days, dist=stats.lognorm, sparams=(shape,), plot=plt)\n",
    "plt.show()"
   ]
  },
  {
   "cell_type": "code",
   "execution_count": 12,
   "id": "b9376de3",
   "metadata": {},
   "outputs": [
    {
     "name": "stderr",
     "output_type": "stream",
     "text": [
      "/Users/nys/miniforge3/envs/py39/lib/python3.9/site-packages/seaborn/distributions.py:2619: FutureWarning: `distplot` is a deprecated function and will be removed in a future version. Please adapt your code to use either `displot` (a figure-level function with similar flexibility) or `histplot` (an axes-level function for histograms).\n",
      "  warnings.warn(msg, FutureWarning)\n",
      "/Users/nys/miniforge3/envs/py39/lib/python3.9/site-packages/seaborn/_decorators.py:36: FutureWarning: Pass the following variables as keyword args: x, y. From version 0.12, the only valid positional argument will be `data`, and passing other arguments without an explicit keyword will result in an error or misinterpretation.\n",
      "  warnings.warn(\n"
     ]
    },
    {
     "data": {
      "text/plain": [
       "<AxesSubplot:ylabel='Density'>"
      ]
     },
     "execution_count": 12,
     "metadata": {},
     "output_type": "execute_result"
    },
    {
     "data": {
      "image/png": "[encoded data removed]",
      "text/plain": [
       "<Figure size 576x576 with 1 Axes>"
      ]
     },
     "metadata": {},
     "output_type": "display_data"
    }
   ],
   "source": [
    "import seaborn as sns\n",
    "\n",
    "def estimate_distribution(data, dist_name, x_size=100):\n",
    "    dist = getattr(stats, dist_name)\n",
    "    params = dist.fit(data)\n",
    "    mean = params[-2]\n",
    "    std = params[-1]\n",
    "    n = data.shape[0]\n",
    "    x = np.linspace(-20, 80, x_size)\n",
    "    fitted_pdf = dist.pdf(x, *params[:-2], loc=mean, scale=std) \n",
    "    return x, params, fitted_pdf\n",
    "\n",
    "sns.set(rc={'figure.figsize':(8,8)})\n",
    "plt.xlim(-20,80)\n",
    "x, params, fitted_pdf = estimate_distribution(cur_days, 'gamma')\n",
    "\n",
    "# sns.distplot(dist, bins=30, norm_hist=False)\n",
    "sns.distplot(cur_days, bins=100, norm_hist=False)\n",
    "sns.lineplot(x, fitted_pdf, color='red', label='pdf_fitted')"
   ]
  },
  {
   "cell_type": "code",
   "execution_count": 13,
   "id": "1a8fb83d",
   "metadata": {},
   "outputs": [],
   "source": [
    "rp_customers = tmp[((tmp.article_id == cur_item) & (tmp.dist.notna()))].customer_id.unique()\n",
    "cur_df = cur_df[cur_df.customer_id.isin(rp_customers)]"
   ]
  },
  {
   "cell_type": "markdown",
   "id": "4651f0a0",
   "metadata": {},
   "source": [
    "$$\\lambda_{A_{i},C_j} = {{k+\\alpha_{A_i}}\\over{t_{purch}+2|t_{mean}-t| + \\beta_{A_i}}}$$"
   ]
  },
  {
   "cell_type": "code",
   "execution_count": 14,
   "id": "0d28e2c7",
   "metadata": {},
   "outputs": [],
   "source": [
    "cur_customer = rp_customers[10]\n",
    "\n",
    "cus_cur_df = cur_df[cur_df.customer_id == cur_customer]\n",
    "cur_datetime = df.t_dat.max()"
   ]
  },
  {
   "cell_type": "code",
   "execution_count": 15,
   "id": "76270082",
   "metadata": {},
   "outputs": [],
   "source": [
    "\n",
    "\n",
    "alpha = shape\n",
    "beta = 1/scale\n",
    "t_mean = cus_cur_df.dist.mean()\n",
    "t_purch = ((cus_cur_df.t_dat.max() - cus_cur_df.t_dat.min()) / np.timedelta64(1, 'D'))\n",
    "k = len(cus_cur_df)\n",
    "cur_t = ((cur_datetime - cus_cur_df.t_dat.max())/ np.timedelta64(1, 'D'))\n",
    "\n",
    "if cur_t > 2 * t_mean:\n",
    "    gamma_art_cus = ((k + alpha)) / (cur_t + beta)\n",
    "else:\n",
    "    gamma_art_cus = (k + alpha) / (t_purch + (2 * abs(t_mean-cur_t)) +beta)\n",
    "    \n",
    "from math import factorial\n",
    "large_r = 0.\n",
    "for m in range(1,100):\n",
    "    large_r += ((gamma_art_cus ** m) * np.exp(gamma_art_cus))/factorial(m)\n",
    "    "
   ]
  },
  {
   "cell_type": "code",
   "execution_count": 16,
   "id": "c49e2bcd",
   "metadata": {},
   "outputs": [
    {
     "data": {
      "text/plain": [
       "0.003775733635410809"
      ]
     },
     "execution_count": 16,
     "metadata": {},
     "output_type": "execute_result"
    }
   ],
   "source": [
    "large_r"
   ]
  },
  {
   "cell_type": "code",
   "execution_count": 17,
   "id": "086fc97d",
   "metadata": {},
   "outputs": [],
   "source": [
    "def calc_gamma(shape, scale, cus_cur_df, cur_datetime):\n",
    "    alpha = shape\n",
    "    beta = 1/scale\n",
    "    t_mean = cus_cur_df.dist.mean()\n",
    "    t_purch = ((cus_cur_df.t_dat.max() - cus_cur_df.t_dat.min()) / np.timedelta64(1, 'D'))\n",
    "    k = len(cus_cur_df)\n",
    "    cur_t = ((cur_datetime - cus_cur_df.t_dat.max())/ np.timedelta64(1, 'D'))\n",
    "    in_t_mean = False\n",
    "    if cur_t > 2 * t_mean:\n",
    "        gamma_art_cus = ((k + alpha)) / (cur_t + beta)\n",
    "    else:\n",
    "        gamma_art_cus = (k + alpha) / (t_purch + (2 * abs(t_mean-cur_t)) +beta)\n",
    "        in_t_mean = True\n",
    "    return gamma_art_cus, in_t_mean, cus_cur_df.t_dat.max(), t_mean, k\n",
    "\n",
    "def calc_large_r(gamma_art_cus, num_sum = 100):\n",
    "    large_r = 0.\n",
    "    for m in range(1,num_sum):\n",
    "        large_r += ((gamma_art_cus ** m) * np.exp(gamma_art_cus))/factorial(m)\n",
    "    return large_r\n"
   ]
  },
  {
   "cell_type": "code",
   "execution_count": 18,
   "id": "72c376e4",
   "metadata": {},
   "outputs": [
    {
     "name": "stderr",
     "output_type": "stream",
     "text": [
      "100%|████████████████████████████████████████████████████████████| 3311/3311 [05:47<00:00,  9.54it/s]\n"
     ]
    }
   ],
   "source": [
    "results = []\n",
    "\n",
    "rp_items = repeat_purchaseable.article_id.values\n",
    "cur_datetime = df.t_dat.max() + np.timedelta64(1, 'D') # 2020 9 16 기준\n",
    "\n",
    "for cur_item in tqdm(rp_items):\n",
    "    rp_customers = tmp[((tmp.article_id == cur_item) & (tmp.dist.notna()))].customer_id.unique()\n",
    "    \n",
    "    cur_df = tmp[(tmp.article_id == cur_item)]\n",
    "    cur_days = cur_df.dist.values\n",
    "    cur_days = cur_days[~np.isnan(cur_days)]\n",
    "\n",
    "    shape, loc, scale = stats.gamma.fit(cur_days)\n",
    "\n",
    "    for cur_customer in rp_customers:\n",
    "        cus_cur_df = cur_df[cur_df.customer_id == cur_customer]\n",
    "        gamma_art_cus, in_t_mean, last_buy_time, t_mean, k = calc_gamma(shape, scale, cus_cur_df, cur_datetime)\n",
    "        large_r = calc_large_r(gamma_art_cus)\n",
    "        \n",
    "        results.append({\"customer_id\":cur_customer,\n",
    "                         \"article_id\":cur_item,\n",
    "                         \"shape\":shape, \n",
    "                         \"loc\":loc, \n",
    "                         \"scale\":scale,\n",
    "                         \"gamma\":gamma_art_cus ,\n",
    "                         \"in_time\": in_t_mean,\n",
    "                         \"last_buy_time\": last_buy_time,\n",
    "                         \"large_r\": large_r,\n",
    "                         \"mean_repeat_day\":t_mean,\n",
    "                         \"num_purchases\":k})        \n",
    "        "
   ]
  },
  {
   "cell_type": "code",
   "execution_count": 19,
   "id": "7a57822b",
   "metadata": {},
   "outputs": [],
   "source": [
    "mpg_df = pd.DataFrame(results)\n",
    "mpg_df = pd.merge(mpg_df,\n",
    "                  rcp_df[['article_id', 'rcp']],\n",
    "                  on = 'article_id', how = 'left')\n",
    "\n",
    "mpg_df['purchase_prob'] = mpg_df['rcp'] * mpg_df['large_r']\n",
    "\n",
    "mpg_df['rank'] = mpg_df.groupby(\"customer_id\")['purchase_prob'].rank(\"dense\", ascending=False)\n",
    "mpg_df = mpg_df.loc[mpg_df['rank'] <=12]\n",
    "\n",
    "mpg_df['customer_id'] = le_customers.inverse_transform(mpg_df['customer_id'])\n",
    "mpg_df['article_id'] = le_articles.inverse_transform(mpg_df['article_id'])\n",
    "\n",
    "mpg_df['prediction'] = '0' + mpg_df['article_id'].astype(str) + ' '"
   ]
  },
  {
   "cell_type": "code",
   "execution_count": 20,
   "id": "b3e9babf",
   "metadata": {},
   "outputs": [
    {
     "data": {
      "text/plain": [
       "count    416200.000000\n",
       "mean          0.001943\n",
       "std           0.075752\n",
       "min           0.000063\n",
       "25%           0.000389\n",
       "50%           0.000638\n",
       "75%           0.001264\n",
       "max          22.589621\n",
       "Name: purchase_prob, dtype: float64"
      ]
     },
     "execution_count": 20,
     "metadata": {},
     "output_type": "execute_result"
    }
   ],
   "source": [
    "mpg_df.purchase_prob.describe()"
   ]
  },
  {
   "cell_type": "code",
   "execution_count": 21,
   "id": "01d4941b",
   "metadata": {},
   "outputs": [
    {
     "name": "stdout",
     "output_type": "stream",
     "text": [
      "416200\n",
      "827\n",
      "203\n"
     ]
    },
    {
     "data": {
      "text/plain": [
       "0.0687778559699742"
      ]
     },
     "execution_count": 21,
     "metadata": {},
     "output_type": "execute_result"
    }
   ],
   "source": [
    "threshold = 0.05\n",
    "\n",
    "print(len(mpg_df))\n",
    "print(len(mpg_df[mpg_df.purchase_prob > threshold]))\n",
    "\n",
    "from evaluate import mapk, apk\n",
    "\n",
    "th_mpg_df = mpg_df[(mpg_df.purchase_prob > threshold)]\n",
    "purchase_df = th_mpg_df.groupby('customer_id').agg({'prediction': sum}).reset_index()\n",
    "purchase_df['prediction'] = purchase_df['prediction'].str.strip()\n",
    "\n",
    "merged= pd.merge(purchase_df, valid_sample, on='customer_id', how='inner')\n",
    "merged['prediction'] = merged.prediction.fillna('')\n",
    "print(len(merged))\n",
    "mapk(\n",
    "    merged['article_id'].map(lambda x: x.split()), \n",
    "    merged['prediction'].map(lambda x: x.split()), \n",
    "    k=12\n",
    ")"
   ]
  },
  {
   "cell_type": "code",
   "execution_count": 22,
   "id": "21c37dd7",
   "metadata": {},
   "outputs": [
    {
     "name": "stdout",
     "output_type": "stream",
     "text": [
      "416200\n",
      "827\n",
      "68984\n"
     ]
    },
    {
     "data": {
      "text/plain": [
       "0.00020239337762241626"
      ]
     },
     "execution_count": 22,
     "metadata": {},
     "output_type": "execute_result"
    }
   ],
   "source": [
    "threshold = 0.05\n",
    "\n",
    "print(len(mpg_df))\n",
    "print(len(mpg_df[mpg_df.purchase_prob > threshold]))\n",
    "\n",
    "from evaluate import mapk, apk\n",
    "\n",
    "th_mpg_df = mpg_df[(mpg_df.purchase_prob > threshold)]\n",
    "purchase_df = th_mpg_df.groupby('customer_id').agg({'prediction': sum}).reset_index()\n",
    "purchase_df['prediction'] = purchase_df['prediction'].str.strip()\n",
    "\n",
    "merged= pd.merge(purchase_df, valid_sample, on='customer_id', how='right')\n",
    "merged['prediction'] = merged.prediction.fillna('')\n",
    "print(len(merged))\n",
    "mapk(\n",
    "    merged['article_id'].map(lambda x: x.split()), \n",
    "    merged['prediction'].map(lambda x: x.split()), \n",
    "    k=12\n",
    ")"
   ]
  },
  {
   "cell_type": "code",
   "execution_count": 23,
   "id": "8c4f0c12",
   "metadata": {},
   "outputs": [],
   "source": [
    "def calc_map12(purchase_df, valid_sample, join_type= 'inner'):\n",
    "    merged = pd.merge(purchase_df, valid_sample, on='customer_id', how=join_type)\n",
    "    merged['prediction'] = merged.prediction.fillna('')\n",
    "    return mapk(\n",
    "        merged['article_id'].map(lambda x: x.split()), \n",
    "        merged['prediction'].map(lambda x: x.split()), \n",
    "        k=12\n",
    "    )"
   ]
  },
  {
   "cell_type": "code",
   "execution_count": 24,
   "id": "096ef3ab",
   "metadata": {},
   "outputs": [],
   "source": [
    "mpg_df = mpg_df.sort_values('purchase_prob')"
   ]
  },
  {
   "cell_type": "code",
   "execution_count": 25,
   "id": "d5728d3c",
   "metadata": {},
   "outputs": [],
   "source": [
    "import math\n",
    "probs = mpg_df.purchase_prob.unique()\n",
    "probs = [math.ceil(p*10000)/10000.0 for p in probs]\n",
    "probs = np.unique(probs)"
   ]
  },
  {
   "cell_type": "code",
   "execution_count": 26,
   "id": "99bbfbb6",
   "metadata": {},
   "outputs": [
    {
     "name": "stderr",
     "output_type": "stream",
     "text": [
      "100%|█████████████████████████████████████████████████████████████▉| 942/943 [02:14<00:00,  7.63it/s]/Users/nys/miniforge3/envs/py39/lib/python3.9/site-packages/numpy/core/fromnumeric.py:3372: RuntimeWarning: Mean of empty slice.\n",
      "  return _methods._mean(a, axis=axis, dtype=dtype,\n",
      "/Users/nys/miniforge3/envs/py39/lib/python3.9/site-packages/numpy/core/_methods.py:170: RuntimeWarning: invalid value encountered in double_scalars\n",
      "  ret = ret.dtype.type(ret / rcount)\n",
      "100%|██████████████████████████████████████████████████████████████| 943/943 [02:14<00:00,  7.01it/s]\n"
     ]
    }
   ],
   "source": [
    "\n",
    "map12_values = []\n",
    "for p in tqdm(probs):\n",
    "    threshold = p\n",
    "    th_mpg_df = mpg_df[(mpg_df.purchase_prob >= threshold)]\n",
    "    purchase_df = th_mpg_df.groupby('customer_id').agg({'prediction': sum}).reset_index()\n",
    "    purchase_df['prediction'] = purchase_df['prediction'].str.strip()\n",
    "    \n",
    "    inner_map12 = calc_map12(purchase_df, valid_sample, 'inner')\n",
    "    right_map12 = calc_map12(purchase_df, valid_sample, 'right')\n",
    "    \n",
    "    map12_values.append((threshold, inner_map12, right_map12))"
   ]
  },
  {
   "cell_type": "code",
   "execution_count": 48,
   "id": "dbf3f7e6",
   "metadata": {},
   "outputs": [
    {
     "data": {
      "text/plain": [
       "[<matplotlib.lines.Line2D at 0x2aba0fd60>]"
      ]
     },
     "execution_count": 48,
     "metadata": {},
     "output_type": "execute_result"
    },
    {
     "data": {
      "image/png": "[encoded data removed]",
      "text/plain": [
       "<Figure size 864x576 with 1 Axes>"
      ]
     },
     "metadata": {},
     "output_type": "display_data"
    }
   ],
   "source": [
    "fig = plt.figure(figsize=(12, 8))\n",
    "ax = fig.add_subplot(1, 1, 1)\n",
    "map12_values = np.array(map12_values)\n",
    "\n",
    "x = list(map12_values[:,0])\n",
    "xi = list(range(len(map12_values)))\n",
    "\n",
    "x = [x[i] for i in range(0, len(x), 20)]\n",
    "xi = [xi[i] for i in range(0, len(xi), 20)]\n",
    "ax.set_xticks(xi,x)\n",
    "plt.xticks(rotation = 90)\n",
    "ax.plot(map12_values[:,1])\n",
    "#ax.plot(map12_values[:,2])\n"
   ]
  },
  {
   "cell_type": "code",
   "execution_count": 51,
   "id": "4fe454d7",
   "metadata": {},
   "outputs": [
    {
     "data": {
      "text/plain": [
       "[<matplotlib.lines.Line2D at 0x2abce3e20>]"
      ]
     },
     "execution_count": 51,
     "metadata": {},
     "output_type": "execute_result"
    },
    {
     "data": {
      "image/png": "[encoded data removed]",
      "text/plain": [
       "<Figure size 864x576 with 1 Axes>"
      ]
     },
     "metadata": {},
     "output_type": "display_data"
    }
   ],
   "source": [
    "fig = plt.figure(figsize=(12, 8))\n",
    "ax = fig.add_subplot(1, 1, 1)\n",
    "\n",
    "ax.set_xticks(xi,x)\n",
    "plt.xticks(rotation = 90)\n",
    "ax.plot(map12_values[:,2])\n"
   ]
  },
  {
   "cell_type": "markdown",
   "id": "013c2221",
   "metadata": {},
   "source": [
    "\n",
    "# References:\n",
    "- buy it agiain paper: https://dl.acm.org/doi/pdf/10.1145/3219819.3219891\n",
    "- sns.distplot.kde : https://darkpgmr.tistory.com/147\n",
    "- lognormal의 파라미터\n",
    "https://stackoverflow.com/questions/8747761/scipy-lognormal-distribution-parameters\n",
    "- 확률분포 mle fitting 이 후, 시각화  http://incredible.ai/statistics/2015/06/13/Distribution-Estimation/\n",
    "- scipy의 lognormal plot, 표준편차가 너무 클 때: https://stats.stackexchange.com/questions/239081/normal-qq-plot-of-logarithm-of-data-does-not-match-log-normal-qq-plot-of-data-it\n"
   ]
  },
  {
   "cell_type": "markdown",
   "id": "91fe74c3",
   "metadata": {},
   "source": [
    "# Kaggle - Trending Products Weekly\n",
    "\n",
    "- https://www.kaggle.com/code/byfone/h-m-trending-products-weekly\n",
    "- https://www.kaggle.com/code/hervind/h-m-faster-trending-products-weekly/notebook\n",
    "- https://www.kaggle.com/code/byfone/h-m-purchases-in-a-row/notebook\n",
    "\n",
    "\n"
   ]
  },
  {
   "cell_type": "code",
   "execution_count": 18,
   "id": "827e342e",
   "metadata": {},
   "outputs": [],
   "source": [
    "import os\n",
    "import gc\n",
    "\n",
    "import numpy as np\n",
    "import pandas as pd\n",
    "import matplotlib.pyplot as plt\n",
    "\n",
    "from tqdm import tqdm\n",
    "from scipy.optimize import curve_fit\n",
    "from joblib import dump, load\n",
    "\n",
    "\n",
    "tqdm.pandas()\n"
   ]
  },
  {
   "cell_type": "code",
   "execution_count": 19,
   "id": "8692c15b",
   "metadata": {},
   "outputs": [],
   "source": [
    "sample_folder = './h-and-m-personalized-fashion-recommendations/sampled_data/'\n",
    "df = pd.read_csv(os.path.join(sample_folder, 'train_0.csv'))\n",
    "valid_sample = pd.read_csv(os.path.join(sample_folder, 'valid_0.csv'))\n",
    "\n",
    "folder = './h-and-m-personalized-fashion-recommendations/'\n",
    "le_articles = load(os.path.join(folder, 'le_articles.joblib'))\n",
    "le_customers = load(os.path.join(folder, 'le_customers.joblib'))\n",
    "\n"
   ]
  },
  {
   "cell_type": "code",
   "execution_count": 20,
   "id": "145ffacf",
   "metadata": {},
   "outputs": [],
   "source": [
    "df['customer_id'] = le_customers.transform(df['customer_id'])\n",
    "df['article_id'] = le_articles.transform(df['article_id'])\n",
    "\n",
    "df['article_id'] = df['article_id'].astype(np.int32)\n",
    "df['customer_id'] = df['customer_id'].astype(np.int32)\n",
    "df['sales_channel_id'] = df['sales_channel_id'].astype('int8')\n",
    "df['price'] = df['price'].astype('float32')\n",
    "\n",
    "df['t_dat'] = pd.to_datetime(df['t_dat'])"
   ]
  },
  {
   "cell_type": "code",
   "execution_count": 23,
   "id": "0e9ef2a3",
   "metadata": {},
   "outputs": [],
   "source": [
    "gb = df.groupby(['customer_id', 'article_id'])['t_dat'].nunique()\n",
    "inx = gb[gb>1].index\n",
    "\n",
    "df = df.set_index(['customer_id', 'article_id'])\n",
    "df = df.loc[inx].copy().sort_index()\n",
    "\n",
    "df['shift_dat'] = df.groupby(level=[0,1])['t_dat'].shift(1)\n",
    "df['dist'] = (df['t_dat'] - df['shift_dat']).dt.days\n",
    "dist = df.loc[df['dist'].notna(), 'dist'].values\n",
    "vc = df['dist'].value_counts()\n",
    "vc = vc[1:]"
   ]
  },
  {
   "cell_type": "code",
   "execution_count": 25,
   "id": "62c7c1ea",
   "metadata": {},
   "outputs": [
    {
     "name": "stderr",
     "output_type": "stream",
     "text": [
      "/var/folders/fl/l7bfgt6j3lz29pwdkr0_537r0000gn/T/ipykernel_29792/917143793.py:2: RuntimeWarning: overflow encountered in exp\n",
      "  return a / np.sqrt(x) + b * np.exp(-c*x) + d\n"
     ]
    },
    {
     "data": {
      "image/png": "[encoded data removed]",
      "text/plain": [
       "<Figure size 432x288 with 1 Axes>"
      ]
     },
     "metadata": {
      "needs_background": "light"
     },
     "output_type": "display_data"
    }
   ],
   "source": [
    "def func(x, a, b, c, d):\n",
    "    return a / np.sqrt(x) + b * np.exp(-c*x) + d\n",
    "# vc.index : 재구매 일수\n",
    "# vc.values : 재구매 일수 별 횟수\n",
    "popt, pcov = curve_fit(func, vc.index, vc.values)\n",
    "\n",
    "plt.plot(vc.index[:100], vc.values[:100], 'b-', label='data')\n",
    "plt.plot(vc.index[:100], func(vc.index[:100], *popt), 'r-',\n",
    "         label='fit: a=%5.3f, b=%5.3f, c=%5.3f, d=%5.3f' % tuple(popt))\n",
    "\n",
    "plt.xlabel('x')\n",
    "plt.ylabel('y')\n",
    "plt.legend()\n",
    "plt.show()"
   ]
  },
  {
   "cell_type": "code",
   "execution_count": 26,
   "id": "87197cdc",
   "metadata": {},
   "outputs": [],
   "source": [
    "df = df.reset_index()\n"
   ]
  },
  {
   "cell_type": "code",
   "execution_count": 27,
   "id": "b4e93fe1",
   "metadata": {},
   "outputs": [],
   "source": [
    "N = 12\n",
    "\n",
    "last_ts = df['t_dat'].max()\n",
    "\n",
    "tmp = df[['t_dat']].copy()\n",
    "tmp['dow'] = tmp['t_dat'].dt.dayofweek\n",
    "#  Monday=0, Sunday=6"
   ]
  },
  {
   "cell_type": "code",
   "execution_count": 28,
   "id": "4b335613",
   "metadata": {},
   "outputs": [
    {
     "data": {
      "text/plain": [
       "Timestamp('2020-09-15 00:00:00')"
      ]
     },
     "execution_count": 28,
     "metadata": {},
     "output_type": "execute_result"
    }
   ],
   "source": [
    "last_ts"
   ]
  },
  {
   "cell_type": "code",
   "execution_count": 29,
   "id": "a2ba9b07",
   "metadata": {},
   "outputs": [
    {
     "data": {
      "text/html": [
       "<div>\n",
       "<style scoped>\n",
       "    .dataframe tbody tr th:only-of-type {\n",
       "        vertical-align: middle;\n",
       "    }\n",
       "\n",
       "    .dataframe tbody tr th {\n",
       "        vertical-align: top;\n",
       "    }\n",
       "\n",
       "    .dataframe thead th {\n",
       "        text-align: right;\n",
       "    }\n",
       "</style>\n",
       "<table border=\"1\" class=\"dataframe\">\n",
       "  <thead>\n",
       "    <tr style=\"text-align: right;\">\n",
       "      <th></th>\n",
       "      <th>t_dat</th>\n",
       "      <th>dow</th>\n",
       "    </tr>\n",
       "  </thead>\n",
       "  <tbody>\n",
       "    <tr>\n",
       "      <th>0</th>\n",
       "      <td>2019-05-07</td>\n",
       "      <td>1</td>\n",
       "    </tr>\n",
       "    <tr>\n",
       "      <th>1</th>\n",
       "      <td>2019-06-18</td>\n",
       "      <td>1</td>\n",
       "    </tr>\n",
       "    <tr>\n",
       "      <th>2</th>\n",
       "      <td>2020-04-22</td>\n",
       "      <td>2</td>\n",
       "    </tr>\n",
       "    <tr>\n",
       "      <th>3</th>\n",
       "      <td>2018-09-21</td>\n",
       "      <td>4</td>\n",
       "    </tr>\n",
       "    <tr>\n",
       "      <th>4</th>\n",
       "      <td>2018-09-27</td>\n",
       "      <td>3</td>\n",
       "    </tr>\n",
       "  </tbody>\n",
       "</table>\n",
       "</div>"
      ],
      "text/plain": [
       "       t_dat  dow\n",
       "0 2019-05-07    1\n",
       "1 2019-06-18    1\n",
       "2 2020-04-22    2\n",
       "3 2018-09-21    4\n",
       "4 2018-09-27    3"
      ]
     },
     "execution_count": 29,
     "metadata": {},
     "output_type": "execute_result"
    }
   ],
   "source": [
    "tmp.head()"
   ]
  },
  {
   "cell_type": "code",
   "execution_count": 31,
   "id": "5b727b70",
   "metadata": {},
   "outputs": [
    {
     "data": {
      "text/html": [
       "<div>\n",
       "<style scoped>\n",
       "    .dataframe tbody tr th:only-of-type {\n",
       "        vertical-align: middle;\n",
       "    }\n",
       "\n",
       "    .dataframe tbody tr th {\n",
       "        vertical-align: top;\n",
       "    }\n",
       "\n",
       "    .dataframe thead th {\n",
       "        text-align: right;\n",
       "    }\n",
       "</style>\n",
       "<table border=\"1\" class=\"dataframe\">\n",
       "  <thead>\n",
       "    <tr style=\"text-align: right;\">\n",
       "      <th></th>\n",
       "      <th>customer_id</th>\n",
       "      <th>article_id</th>\n",
       "      <th>t_dat</th>\n",
       "      <th>price</th>\n",
       "      <th>sales_channel_id</th>\n",
       "      <th>week_num</th>\n",
       "      <th>shift_dat</th>\n",
       "      <th>dist</th>\n",
       "    </tr>\n",
       "  </thead>\n",
       "  <tbody>\n",
       "    <tr>\n",
       "      <th>0</th>\n",
       "      <td>1</td>\n",
       "      <td>1469</td>\n",
       "      <td>2019-05-07</td>\n",
       "      <td>0.022017</td>\n",
       "      <td>2</td>\n",
       "      <td>72</td>\n",
       "      <td>NaT</td>\n",
       "      <td>NaN</td>\n",
       "    </tr>\n",
       "    <tr>\n",
       "      <th>1</th>\n",
       "      <td>1</td>\n",
       "      <td>1469</td>\n",
       "      <td>2019-06-18</td>\n",
       "      <td>0.022017</td>\n",
       "      <td>2</td>\n",
       "      <td>66</td>\n",
       "      <td>2019-05-07</td>\n",
       "      <td>42.0</td>\n",
       "    </tr>\n",
       "    <tr>\n",
       "      <th>2</th>\n",
       "      <td>1</td>\n",
       "      <td>1469</td>\n",
       "      <td>2020-04-22</td>\n",
       "      <td>0.016932</td>\n",
       "      <td>2</td>\n",
       "      <td>21</td>\n",
       "      <td>2019-06-18</td>\n",
       "      <td>309.0</td>\n",
       "    </tr>\n",
       "    <tr>\n",
       "      <th>3</th>\n",
       "      <td>1</td>\n",
       "      <td>19333</td>\n",
       "      <td>2018-09-21</td>\n",
       "      <td>0.067780</td>\n",
       "      <td>2</td>\n",
       "      <td>104</td>\n",
       "      <td>NaT</td>\n",
       "      <td>NaN</td>\n",
       "    </tr>\n",
       "    <tr>\n",
       "      <th>4</th>\n",
       "      <td>1</td>\n",
       "      <td>19333</td>\n",
       "      <td>2018-09-27</td>\n",
       "      <td>0.067780</td>\n",
       "      <td>2</td>\n",
       "      <td>103</td>\n",
       "      <td>2018-09-21</td>\n",
       "      <td>6.0</td>\n",
       "    </tr>\n",
       "  </tbody>\n",
       "</table>\n",
       "</div>"
      ],
      "text/plain": [
       "   customer_id  article_id      t_dat     price  sales_channel_id  week_num  \\\n",
       "0            1        1469 2019-05-07  0.022017                 2        72   \n",
       "1            1        1469 2019-06-18  0.022017                 2        66   \n",
       "2            1        1469 2020-04-22  0.016932                 2        21   \n",
       "3            1       19333 2018-09-21  0.067780                 2       104   \n",
       "4            1       19333 2018-09-27  0.067780                 2       103   \n",
       "\n",
       "   shift_dat   dist  \n",
       "0        NaT    NaN  \n",
       "1 2019-05-07   42.0  \n",
       "2 2019-06-18  309.0  \n",
       "3        NaT    NaN  \n",
       "4 2018-09-21    6.0  "
      ]
     },
     "execution_count": 31,
     "metadata": {},
     "output_type": "execute_result"
    }
   ],
   "source": [
    "df.head()"
   ]
  },
  {
   "cell_type": "code",
   "execution_count": 32,
   "id": "a1d5943f",
   "metadata": {},
   "outputs": [],
   "source": [
    "tmp['ldbw'] = tmp['t_dat'] - pd.TimedeltaIndex(tmp['dow'] - 1, unit='D')\n",
    "tmp.loc[tmp['dow'] >=2 , 'ldbw'] + \n",
    "pd.TimedeltaIndex(np.ones(len(tmp.loc[tmp['dow'] >=2])) * 7, unit='D')\n",
    "tmp.loc[tmp['dow'] >=2 , 'ldbw'] = tmp.loc[tmp['dow'] >=2 , 'ldbw'] + \\\n",
    "        pd.TimedeltaIndex(np.ones(len(tmp.loc[tmp['dow'] >=2])) * 7, unit='D')\n"
   ]
  },
  {
   "cell_type": "code",
   "execution_count": 44,
   "id": "1ca3ebfb",
   "metadata": {},
   "outputs": [],
   "source": [
    "df['ldbw'] = tmp['ldbw'].values\n",
    "# lbdw: 마지막 날짜인 화요일이기 때문에, 이번주 수~ 다음주 월요일 -> 다음주 화요일(1)의 날짜로 설정"
   ]
  },
  {
   "cell_type": "code",
   "execution_count": 45,
   "id": "c973cf0e",
   "metadata": {},
   "outputs": [],
   "source": [
    "\n",
    "weekly_sales = df.drop('customer_id', axis=1).groupby(['ldbw', 'article_id']).count().reset_index()\n",
    "weekly_sales = weekly_sales.rename(columns={'t_dat': 'count'})\n",
    "\n"
   ]
  },
  {
   "cell_type": "code",
   "execution_count": 48,
   "id": "d20e2d39",
   "metadata": {},
   "outputs": [],
   "source": [
    "weekly_sales = weekly_sales[['ldbw', 'article_id', 'count']]\n",
    "df = df.merge(weekly_sales, on=['ldbw', 'article_id'], how = 'left')\n"
   ]
  },
  {
   "cell_type": "code",
   "execution_count": 49,
   "id": "c5699045",
   "metadata": {},
   "outputs": [
    {
     "data": {
      "text/html": [
       "<div>\n",
       "<style scoped>\n",
       "    .dataframe tbody tr th:only-of-type {\n",
       "        vertical-align: middle;\n",
       "    }\n",
       "\n",
       "    .dataframe tbody tr th {\n",
       "        vertical-align: top;\n",
       "    }\n",
       "\n",
       "    .dataframe thead th {\n",
       "        text-align: right;\n",
       "    }\n",
       "</style>\n",
       "<table border=\"1\" class=\"dataframe\">\n",
       "  <thead>\n",
       "    <tr style=\"text-align: right;\">\n",
       "      <th></th>\n",
       "      <th>customer_id</th>\n",
       "      <th>article_id</th>\n",
       "      <th>t_dat</th>\n",
       "      <th>price</th>\n",
       "      <th>sales_channel_id</th>\n",
       "      <th>week_num</th>\n",
       "      <th>shift_dat</th>\n",
       "      <th>dist</th>\n",
       "      <th>ldbw</th>\n",
       "      <th>count</th>\n",
       "    </tr>\n",
       "  </thead>\n",
       "  <tbody>\n",
       "    <tr>\n",
       "      <th>0</th>\n",
       "      <td>1</td>\n",
       "      <td>1469</td>\n",
       "      <td>2019-05-07</td>\n",
       "      <td>0.022017</td>\n",
       "      <td>2</td>\n",
       "      <td>72</td>\n",
       "      <td>NaT</td>\n",
       "      <td>NaN</td>\n",
       "      <td>2019-05-07</td>\n",
       "      <td>52</td>\n",
       "    </tr>\n",
       "    <tr>\n",
       "      <th>1</th>\n",
       "      <td>1</td>\n",
       "      <td>1469</td>\n",
       "      <td>2019-06-18</td>\n",
       "      <td>0.022017</td>\n",
       "      <td>2</td>\n",
       "      <td>66</td>\n",
       "      <td>2019-05-07</td>\n",
       "      <td>42.0</td>\n",
       "      <td>2019-06-18</td>\n",
       "      <td>67</td>\n",
       "    </tr>\n",
       "    <tr>\n",
       "      <th>2</th>\n",
       "      <td>1</td>\n",
       "      <td>1469</td>\n",
       "      <td>2020-04-22</td>\n",
       "      <td>0.016932</td>\n",
       "      <td>2</td>\n",
       "      <td>21</td>\n",
       "      <td>2019-06-18</td>\n",
       "      <td>309.0</td>\n",
       "      <td>2020-04-28</td>\n",
       "      <td>86</td>\n",
       "    </tr>\n",
       "    <tr>\n",
       "      <th>3</th>\n",
       "      <td>1</td>\n",
       "      <td>19333</td>\n",
       "      <td>2018-09-21</td>\n",
       "      <td>0.067780</td>\n",
       "      <td>2</td>\n",
       "      <td>104</td>\n",
       "      <td>NaT</td>\n",
       "      <td>NaN</td>\n",
       "      <td>2018-09-25</td>\n",
       "      <td>6</td>\n",
       "    </tr>\n",
       "    <tr>\n",
       "      <th>4</th>\n",
       "      <td>1</td>\n",
       "      <td>19333</td>\n",
       "      <td>2018-09-27</td>\n",
       "      <td>0.067780</td>\n",
       "      <td>2</td>\n",
       "      <td>103</td>\n",
       "      <td>2018-09-21</td>\n",
       "      <td>6.0</td>\n",
       "      <td>2018-10-02</td>\n",
       "      <td>6</td>\n",
       "    </tr>\n",
       "  </tbody>\n",
       "</table>\n",
       "</div>"
      ],
      "text/plain": [
       "   customer_id  article_id      t_dat     price  sales_channel_id  week_num  \\\n",
       "0            1        1469 2019-05-07  0.022017                 2        72   \n",
       "1            1        1469 2019-06-18  0.022017                 2        66   \n",
       "2            1        1469 2020-04-22  0.016932                 2        21   \n",
       "3            1       19333 2018-09-21  0.067780                 2       104   \n",
       "4            1       19333 2018-09-27  0.067780                 2       103   \n",
       "\n",
       "   shift_dat   dist       ldbw  count  \n",
       "0        NaT    NaN 2019-05-07     52  \n",
       "1 2019-05-07   42.0 2019-06-18     67  \n",
       "2 2019-06-18  309.0 2020-04-28     86  \n",
       "3        NaT    NaN 2018-09-25      6  \n",
       "4 2018-09-21    6.0 2018-10-02      6  "
      ]
     },
     "execution_count": 49,
     "metadata": {},
     "output_type": "execute_result"
    }
   ],
   "source": [
    "df.head()"
   ]
  },
  {
   "cell_type": "code",
   "execution_count": 51,
   "id": "d62d5dc7",
   "metadata": {},
   "outputs": [],
   "source": [
    "weekly_sales = weekly_sales.reset_index().set_index('article_id')"
   ]
  },
  {
   "cell_type": "code",
   "execution_count": 54,
   "id": "5b639686",
   "metadata": {},
   "outputs": [],
   "source": [
    "df = df.merge(\n",
    "    weekly_sales.loc[weekly_sales['ldbw']==last_ts, ['count']],\n",
    "    on='article_id', suffixes=(\"\", \"_targ\"))\n"
   ]
  },
  {
   "cell_type": "code",
   "execution_count": 56,
   "id": "bba697fc",
   "metadata": {},
   "outputs": [],
   "source": [
    "# count: 이번 주에 해당 물품 팔린 횟수 \n",
    "# count_targ: 마지막 주에 해당 물품 팔린 횟수\n",
    "# quotient = count_targ / count\n",
    "\n",
    "df['count_targ'].fillna(0, inplace=True)\n",
    "del weekly_sales; gc.collect();\n",
    "df['quotient'] = df['count_targ'] / df['count']\n",
    "\n",
    "# target_sales = df.drop('customer_id', axis=1).groupby('article_id')['quotient'].sum()\n",
    "# general_pred = target_sales.nlargest(N).index.to_pandas().tolist()\n",
    "# general_pred = ['0' + str(article_id) for article_id in general_pred]\n",
    "# general_pred_str =  ' '.join(general_pred)\n",
    "# del target_sales"
   ]
  },
  {
   "cell_type": "code",
   "execution_count": 64,
   "id": "9026ccd3",
   "metadata": {},
   "outputs": [],
   "source": [
    "purchase_dict = {}\n",
    "\n",
    "# x : 마지막 날짜와 거래날짜의 차이 최소 1이 되도록\n",
    "tmp = df.copy()\n",
    "tmp['x'] = ((last_ts - tmp['t_dat']) / np.timedelta64(1, 'D')).astype(int)\n",
    "tmp['dummy_1'] = 1 \n",
    "tmp['x'] = tmp[[\"x\", \"dummy_1\"]].max(axis=1)\n",
    "\n"
   ]
  },
  {
   "cell_type": "code",
   "execution_count": 65,
   "id": "06d15206",
   "metadata": {},
   "outputs": [],
   "source": [
    "# 아래 식:  f(전체 재구매 상품에 대한 재구매 기간) = 재구매 횟수\n",
    "#         함수 f를 fitting\n",
    "# quotient = 마지막 주에 해당 물품 팔린 횟수 / 해당 주에 해당 물품 팔린 횟수 \n",
    "# value = 해당 상품 예상 재구매 횟수 * 마지막주에 해당상품 팔린 횟수 / 해당 주에 해당 물품 팔린 횟수 \n",
    "a, b, c, d = popt\n",
    "tmp['y'] = a / np.sqrt(tmp['x']) + b * np.exp(-c*tmp['x']) - d\n",
    "tmp['dummy_0'] = 0 \n",
    "tmp['y'] = tmp[[\"y\", \"dummy_0\"]].max(axis=1)\n",
    "tmp['value'] = tmp['quotient'] * tmp['y'] \n"
   ]
  },
  {
   "cell_type": "code",
   "execution_count": 71,
   "id": "0d08a3df",
   "metadata": {},
   "outputs": [
    {
     "data": {
      "text/plain": [
       "count    2.931440e+05\n",
       "mean     1.269612e+04\n",
       "std      4.108054e+04\n",
       "min      2.239681e+01\n",
       "25%      1.108353e+03\n",
       "50%      3.097917e+03\n",
       "75%      7.514277e+03\n",
       "max      6.975934e+06\n",
       "Name: value, dtype: float64"
      ]
     },
     "execution_count": 71,
     "metadata": {},
     "output_type": "execute_result"
    }
   ],
   "source": [
    "tmp.value.describe()"
   ]
  },
  {
   "cell_type": "code",
   "execution_count": 69,
   "id": "696a724e",
   "metadata": {},
   "outputs": [],
   "source": [
    "tmp = tmp.groupby(['customer_id', 'article_id']).agg({'value': 'sum'})\n",
    "tmp = tmp.reset_index()"
   ]
  },
  {
   "cell_type": "code",
   "execution_count": 74,
   "id": "ab99c3c5",
   "metadata": {},
   "outputs": [
    {
     "name": "stderr",
     "output_type": "stream",
     "text": [
      "/var/folders/fl/l7bfgt6j3lz29pwdkr0_537r0000gn/T/ipykernel_29792/528567860.py:2: SettingWithCopyWarning: \n",
      "A value is trying to be set on a copy of a slice from a DataFrame.\n",
      "Try using .loc[row_indexer,col_indexer] = value instead\n",
      "\n",
      "See the caveats in the documentation: https://pandas.pydata.org/pandas-docs/stable/user_guide/indexing.html#returning-a-view-versus-a-copy\n",
      "  tmp['rank'] = tmp.groupby(\"customer_id\")[\"value\"].rank(\"dense\", ascending=False)\n"
     ]
    }
   ],
   "source": [
    "\n",
    "tmp = tmp.loc[tmp['value'] > 100]\n",
    "tmp['rank'] = tmp.groupby(\"customer_id\")[\"value\"].rank(\"dense\", ascending=False)\n",
    "tmp = tmp.loc[tmp['rank'] <= 12]\n",
    "\n",
    "purchase_df = tmp.sort_values(['customer_id', 'value'], ascending = False).reset_index(drop = True)\n",
    "\n"
   ]
  },
  {
   "cell_type": "code",
   "execution_count": 75,
   "id": "84dc37c5",
   "metadata": {},
   "outputs": [],
   "source": [
    "purchase_df['customer_id'] = le_customers.inverse_transform(purchase_df['customer_id'])\n",
    "purchase_df['article_id'] = le_articles.inverse_transform(purchase_df['article_id'])"
   ]
  },
  {
   "cell_type": "code",
   "execution_count": 76,
   "id": "96bc2f59",
   "metadata": {},
   "outputs": [],
   "source": [
    "purchase_df['prediction'] = '0' + purchase_df['article_id'].astype(str) + ' '\n",
    "purchase_df = purchase_df.groupby('customer_id').agg({'prediction': sum}).reset_index()\n",
    "purchase_df['prediction'] = purchase_df['prediction'].str.strip()"
   ]
  },
  {
   "cell_type": "code",
   "execution_count": 77,
   "id": "d12c6161",
   "metadata": {},
   "outputs": [],
   "source": [
    "from evaluate import mapk, apk"
   ]
  },
  {
   "cell_type": "code",
   "execution_count": 78,
   "id": "8beb13c6",
   "metadata": {},
   "outputs": [
    {
     "data": {
      "text/plain": [
       "0.013376533261544206"
      ]
     },
     "execution_count": 78,
     "metadata": {},
     "output_type": "execute_result"
    }
   ],
   "source": [
    "merged= pd.merge(purchase_df, valid_sample, on='customer_id', how='inner')\n",
    "\n",
    "mapk(\n",
    "    merged['article_id'].map(lambda x: x.split()), \n",
    "    merged['prediction'].map(lambda x: x.split()), \n",
    "    k=12\n",
    ")"
   ]
  },
  {
   "cell_type": "code",
   "execution_count": 79,
   "id": "2c3054d0",
   "metadata": {},
   "outputs": [
    {
     "data": {
      "text/html": [
       "<div>\n",
       "<style scoped>\n",
       "    .dataframe tbody tr th:only-of-type {\n",
       "        vertical-align: middle;\n",
       "    }\n",
       "\n",
       "    .dataframe tbody tr th {\n",
       "        vertical-align: top;\n",
       "    }\n",
       "\n",
       "    .dataframe thead th {\n",
       "        text-align: right;\n",
       "    }\n",
       "</style>\n",
       "<table border=\"1\" class=\"dataframe\">\n",
       "  <thead>\n",
       "    <tr style=\"text-align: right;\">\n",
       "      <th></th>\n",
       "      <th>customer_id</th>\n",
       "      <th>article_id</th>\n",
       "      <th>t_dat</th>\n",
       "      <th>price</th>\n",
       "      <th>sales_channel_id</th>\n",
       "      <th>week_num</th>\n",
       "      <th>shift_dat</th>\n",
       "      <th>dist</th>\n",
       "      <th>ldbw</th>\n",
       "      <th>count</th>\n",
       "      <th>count_targ</th>\n",
       "      <th>quotient</th>\n",
       "    </tr>\n",
       "  </thead>\n",
       "  <tbody>\n",
       "    <tr>\n",
       "      <th>0</th>\n",
       "      <td>1</td>\n",
       "      <td>1469</td>\n",
       "      <td>2019-05-07</td>\n",
       "      <td>0.022017</td>\n",
       "      <td>2</td>\n",
       "      <td>72</td>\n",
       "      <td>NaT</td>\n",
       "      <td>NaN</td>\n",
       "      <td>2019-05-07</td>\n",
       "      <td>52</td>\n",
       "      <td>4</td>\n",
       "      <td>0.076923</td>\n",
       "    </tr>\n",
       "    <tr>\n",
       "      <th>1</th>\n",
       "      <td>1</td>\n",
       "      <td>1469</td>\n",
       "      <td>2019-06-18</td>\n",
       "      <td>0.022017</td>\n",
       "      <td>2</td>\n",
       "      <td>66</td>\n",
       "      <td>2019-05-07</td>\n",
       "      <td>42.0</td>\n",
       "      <td>2019-06-18</td>\n",
       "      <td>67</td>\n",
       "      <td>4</td>\n",
       "      <td>0.059701</td>\n",
       "    </tr>\n",
       "    <tr>\n",
       "      <th>2</th>\n",
       "      <td>1</td>\n",
       "      <td>1469</td>\n",
       "      <td>2020-04-22</td>\n",
       "      <td>0.016932</td>\n",
       "      <td>2</td>\n",
       "      <td>21</td>\n",
       "      <td>2019-06-18</td>\n",
       "      <td>309.0</td>\n",
       "      <td>2020-04-28</td>\n",
       "      <td>86</td>\n",
       "      <td>4</td>\n",
       "      <td>0.046512</td>\n",
       "    </tr>\n",
       "    <tr>\n",
       "      <th>3</th>\n",
       "      <td>6201</td>\n",
       "      <td>1469</td>\n",
       "      <td>2019-01-14</td>\n",
       "      <td>0.022017</td>\n",
       "      <td>2</td>\n",
       "      <td>88</td>\n",
       "      <td>NaT</td>\n",
       "      <td>NaN</td>\n",
       "      <td>2019-01-15</td>\n",
       "      <td>47</td>\n",
       "      <td>4</td>\n",
       "      <td>0.085106</td>\n",
       "    </tr>\n",
       "    <tr>\n",
       "      <th>4</th>\n",
       "      <td>6201</td>\n",
       "      <td>1469</td>\n",
       "      <td>2020-05-08</td>\n",
       "      <td>0.018712</td>\n",
       "      <td>2</td>\n",
       "      <td>19</td>\n",
       "      <td>2019-01-14</td>\n",
       "      <td>480.0</td>\n",
       "      <td>2020-05-12</td>\n",
       "      <td>51</td>\n",
       "      <td>4</td>\n",
       "      <td>0.078431</td>\n",
       "    </tr>\n",
       "  </tbody>\n",
       "</table>\n",
       "</div>"
      ],
      "text/plain": [
       "   customer_id  article_id      t_dat     price  sales_channel_id  week_num  \\\n",
       "0            1        1469 2019-05-07  0.022017                 2        72   \n",
       "1            1        1469 2019-06-18  0.022017                 2        66   \n",
       "2            1        1469 2020-04-22  0.016932                 2        21   \n",
       "3         6201        1469 2019-01-14  0.022017                 2        88   \n",
       "4         6201        1469 2020-05-08  0.018712                 2        19   \n",
       "\n",
       "   shift_dat   dist       ldbw  count  count_targ  quotient  \n",
       "0        NaT    NaN 2019-05-07     52           4  0.076923  \n",
       "1 2019-05-07   42.0 2019-06-18     67           4  0.059701  \n",
       "2 2019-06-18  309.0 2020-04-28     86           4  0.046512  \n",
       "3        NaT    NaN 2019-01-15     47           4  0.085106  \n",
       "4 2019-01-14  480.0 2020-05-12     51           4  0.078431  "
      ]
     },
     "execution_count": 79,
     "metadata": {},
     "output_type": "execute_result"
    }
   ],
   "source": [
    "df.head()"
   ]
  },
  {
   "cell_type": "code",
   "execution_count": null,
   "id": "e30e3f65",
   "metadata": {},
   "outputs": [],
   "source": []
  }
 ],
 "metadata": {
  "kernelspec": {
   "display_name": "py39",
   "language": "python",
   "name": "py39"
  },
  "language_info": {
   "codemirror_mode": {
    "name": "ipython",
    "version": 3
   },
   "file_extension": ".py",
   "mimetype": "text/x-python",
   "name": "python",
   "nbconvert_exporter": "python",
   "pygments_lexer": "ipython3",
   "version": "3.9.0"
  }
 },
 "nbformat": 4,
 "nbformat_minor": 5
}
