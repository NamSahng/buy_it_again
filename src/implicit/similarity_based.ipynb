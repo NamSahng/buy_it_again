{
 "cells": [
  {
   "cell_type": "markdown",
   "id": "c7e6b2c6",
   "metadata": {},
   "source": [
    "# Reference\n",
    "- https://github.com/benfred/implicit/blob/main/examples/movielens.py\n"
   ]
  },
  {
   "cell_type": "code",
   "execution_count": 1,
   "id": "65d5ca01",
   "metadata": {},
   "outputs": [],
   "source": [
    "from __future__ import print_function\n",
    "\n",
    "import argparse\n",
    "import codecs\n",
    "import logging\n",
    "import time\n",
    "\n",
    "import numpy as np\n",
    "import tqdm\n",
    "\n",
    "from implicit.als import AlternatingLeastSquares\n",
    "from implicit.bpr import BayesianPersonalizedRanking\n",
    "from implicit.datasets.movielens import get_movielens\n",
    "from implicit.lmf import LogisticMatrixFactorization\n",
    "from implicit.nearest_neighbours import (\n",
    "    BM25Recommender,\n",
    "    CosineRecommender,\n",
    "    TFIDFRecommender,\n",
    "    bm25_weight,\n",
    ")\n",
    "\n",
    "log = logging.getLogger(\"implicit\")"
   ]
  },
  {
   "cell_type": "code",
   "execution_count": 2,
   "id": "d5ca7f90",
   "metadata": {},
   "outputs": [],
   "source": [
    "variant = '100k'\n",
    "\n",
    "titles, ratings = get_movielens(variant)\n",
    "\n"
   ]
  },
  {
   "cell_type": "markdown",
   "id": "41e4c741",
   "metadata": {},
   "source": [
    "\n",
    "- movie lens 100k\n",
    "\n",
    "\n",
    "\n",
    "    "
   ]
  },
  {
   "cell_type": "code",
   "execution_count": 3,
   "id": "61d84fdc",
   "metadata": {},
   "outputs": [
    {
     "name": "stdout",
     "output_type": "stream",
     "text": [
      "titles 자료구조:  <class 'numpy.ndarray'>\n",
      "rating 자료구조:  <class 'scipy.sparse.csr.csr_matrix'>\n",
      "영화 수:  1683\n",
      "영화수 x 사용자:  (1683, 944)\n",
      "0의 비율:  0.9370575143257097\n",
      "1의 비율:  0.0038457858746991347\n",
      "2의 비율:  0.007156560621166802\n",
      "3의 비율:  0.01708573773628609\n",
      "4의 비율:  0.021509965054331955\n",
      "5의 비율:  0.013344436387806278\n"
     ]
    },
    {
     "name": "stderr",
     "output_type": "stream",
     "text": [
      "/home/nys/anaconda3/envs/my_env/lib/python3.8/site-packages/IPython/core/interactiveshell.py:3397: SparseEfficiencyWarning: Comparing a sparse matrix with 0 using == is inefficient, try using != instead.\n",
      "  exec(code_obj, self.user_global_ns, self.user_ns)\n"
     ]
    }
   ],
   "source": [
    "print(\"titles 자료구조: \", type(titles))\n",
    "print(\"rating 자료구조: \", type(ratings))\n",
    "print(\"영화 수: \",len(titles))\n",
    "print(\"영화수 x 사용자: \",ratings.shape)\n",
    "\n",
    "for i in range(6):\n",
    "    # 0은 !=을 이용하라는 Warning\n",
    "    rate = np.sum(ratings == i) / (ratings.shape[0] * ratings.shape[1])\n",
    "    print(f'{i}의 비율: ',rate)\n",
    "\n"
   ]
  },
  {
   "cell_type": "code",
   "execution_count": 4,
   "id": "a3e2bdfa",
   "metadata": {},
   "outputs": [
    {
     "data": {
      "text/plain": [
       "{1.0, 2.0, 3.0, 4.0, 5.0}"
      ]
     },
     "execution_count": 4,
     "metadata": {},
     "output_type": "execute_result"
    }
   ],
   "source": [
    "set(ratings.data)"
   ]
  },
  {
   "cell_type": "code",
   "execution_count": 5,
   "id": "a28ed189",
   "metadata": {},
   "outputs": [],
   "source": [
    "min_rating = 4\n",
    "ratings.data[ratings.data < min_rating] = 0\n",
    "ratings.eliminate_zeros()\n",
    "ratings.data = np.ones(len(ratings.data))\n"
   ]
  },
  {
   "cell_type": "code",
   "execution_count": 6,
   "id": "84c90d7f",
   "metadata": {},
   "outputs": [
    {
     "data": {
      "text/plain": [
       "{1.0}"
      ]
     },
     "execution_count": 6,
     "metadata": {},
     "output_type": "execute_result"
    }
   ],
   "source": [
    "set(ratings.data)"
   ]
  },
  {
   "cell_type": "code",
   "execution_count": 7,
   "id": "9f60762a",
   "metadata": {},
   "outputs": [
    {
     "name": "stdout",
     "output_type": "stream",
     "text": [
      "0의 비율:  0.9651455985578618\n",
      "1의 비율:  0.03485440144213823\n",
      "2의 비율:  0.0\n",
      "3의 비율:  0.0\n",
      "4의 비율:  0.0\n",
      "5의 비율:  0.0\n"
     ]
    }
   ],
   "source": [
    "for i in range(6):\n",
    "    # 0은 !=을 이용하라는 Warning\n",
    "    rate = np.sum(ratings == i) / (ratings.shape[0] * ratings.shape[1])\n",
    "    print(f'{i}의 비율: ',rate)\n"
   ]
  },
  {
   "cell_type": "markdown",
   "id": "23e5cd2c",
   "metadata": {},
   "source": [
    "- bm25 가중치\n",
    "    - https://inyl.github.io/search_engine/2017/04/01/bm25.html\n",
    "    \n"
   ]
  },
  {
   "cell_type": "code",
   "execution_count": 8,
   "id": "1aa430a7",
   "metadata": {},
   "outputs": [],
   "source": [
    "# def bm25_weight(X, K1=100, B=0.8):\n",
    "#     \"\"\"Weighs each row of a sparse matrix X  by BM25 weighting\"\"\"\n",
    "#     # calculate idf per term (user)\n",
    "#     X = coo_matrix(X)\n",
    "\n",
    "#     N = float(X.shape[0])\n",
    "#     idf = log(N) - log1p(bincount(X.col))\n",
    "\n",
    "#     # calculate length_norm per document (artist)\n",
    "#     row_sums = np.ravel(X.sum(axis=1))\n",
    "#     average_length = row_sums.mean()\n",
    "#     length_norm = (1.0 - B) + B * row_sums / average_length\n",
    "\n",
    "#     # weight matrix rows by bm25\n",
    "#     X.data = X.data * (K1 + 1.0) / (K1 * length_norm[X.row] + X.data) * idf[X.col]\n",
    "#     return X"
   ]
  },
  {
   "cell_type": "code",
   "execution_count": 9,
   "id": "78d0f8e4",
   "metadata": {},
   "outputs": [
    {
     "name": "stderr",
     "output_type": "stream",
     "text": [
      "/home/nys/anaconda3/envs/my_env/lib/python3.8/site-packages/implicit/utils.py:31: UserWarning: Intel MKL BLAS detected. Its highly recommend to set the environment variable 'export MKL_NUM_THREADS=1' to disable its internal multithreading\n",
      "  warnings.warn(\n"
     ]
    }
   ],
   "source": [
    "ratings_als = (bm25_weight(ratings, B=0.9) * 5).tocsr()\n",
    "als = AlternatingLeastSquares(use_gpu=False)\n",
    "\n",
    "bpr = BayesianPersonalizedRanking(use_gpu=False)\n",
    "lmf = LogisticMatrixFactorization(use_gpu=False)\n",
    "\n",
    "# similarity based recsys\n",
    "tfidf = TFIDFRecommender()\n",
    "cr = CosineRecommender()\n",
    "bm25 = BM25Recommender(B=0.2)\n"
   ]
  },
  {
   "cell_type": "code",
   "execution_count": 10,
   "id": "71b5ba5e",
   "metadata": {},
   "outputs": [],
   "source": [
    "models_data = [(als, ratings_als)]"
   ]
  },
  {
   "cell_type": "code",
   "execution_count": 39,
   "id": "cd583bee",
   "metadata": {},
   "outputs": [],
   "source": [
    "models = [als, bpr, lmf, tfidf, cr, bm25]\n",
    "datas = [ratings_als] + [ratings] * 5\n",
    "model_names = [\"als\", \"bpr\", \"lmf\",\"tfidf\", \"cr\", \"bm25\"]\n",
    "\n",
    "trained_models = []"
   ]
  },
  {
   "cell_type": "code",
   "execution_count": 38,
   "id": "778bc6f3",
   "metadata": {},
   "outputs": [],
   "source": [
    "user_count = np.ediff1d(ratings.indptr)\n",
    "\n",
    "to_generate = sorted(np.arange(len(titles)), key=lambda x: -user_count[x])\n",
    "    \n",
    "    \n",
    "    "
   ]
  },
  {
   "cell_type": "code",
   "execution_count": 41,
   "id": "60d36db9",
   "metadata": {},
   "outputs": [
    {
     "data": {
      "application/vnd.jupyter.widget-view+json": {
       "model_id": "fe742dd1539d47cba8f945bdc82cb5a1",
       "version_major": 2,
       "version_minor": 0
      },
      "text/plain": [
       "  0%|          | 0/15 [00:00<?, ?it/s]"
      ]
     },
     "metadata": {},
     "output_type": "display_data"
    },
    {
     "name": "stdout",
     "output_type": "stream",
     "text": [
      "als trained\n"
     ]
    },
    {
     "data": {
      "application/vnd.jupyter.widget-view+json": {
       "model_id": "bf83c86c06744c48acf03b358963fd51",
       "version_major": 2,
       "version_minor": 0
      },
      "text/plain": [
       "  0%|          | 0/100 [00:00<?, ?it/s]"
      ]
     },
     "metadata": {},
     "output_type": "display_data"
    },
    {
     "name": "stdout",
     "output_type": "stream",
     "text": [
      "bpr trained\n"
     ]
    },
    {
     "data": {
      "application/vnd.jupyter.widget-view+json": {
       "model_id": "82f34ae5e4e348809ceeabce31317f01",
       "version_major": 2,
       "version_minor": 0
      },
      "text/plain": [
       "  0%|          | 0/30 [00:00<?, ?it/s]"
      ]
     },
     "metadata": {},
     "output_type": "display_data"
    },
    {
     "name": "stdout",
     "output_type": "stream",
     "text": [
      "lmf trained\n"
     ]
    },
    {
     "data": {
      "application/vnd.jupyter.widget-view+json": {
       "model_id": "5cffb00ce2194e9ab88561cfec14c1c0",
       "version_major": 2,
       "version_minor": 0
      },
      "text/plain": [
       "  0%|          | 0/944 [00:00<?, ?it/s]"
      ]
     },
     "metadata": {},
     "output_type": "display_data"
    },
    {
     "name": "stdout",
     "output_type": "stream",
     "text": [
      "tfidf trained\n"
     ]
    },
    {
     "data": {
      "application/vnd.jupyter.widget-view+json": {
       "model_id": "8ae3a5b2d3804cf594993762034f1e6b",
       "version_major": 2,
       "version_minor": 0
      },
      "text/plain": [
       "  0%|          | 0/944 [00:00<?, ?it/s]"
      ]
     },
     "metadata": {},
     "output_type": "display_data"
    },
    {
     "name": "stdout",
     "output_type": "stream",
     "text": [
      "cr trained\n"
     ]
    },
    {
     "data": {
      "application/vnd.jupyter.widget-view+json": {
       "model_id": "6c643e5e01e94edb9cfe55ee085936c0",
       "version_major": 2,
       "version_minor": 0
      },
      "text/plain": [
       "  0%|          | 0/944 [00:00<?, ?it/s]"
      ]
     },
     "metadata": {},
     "output_type": "display_data"
    },
    {
     "name": "stdout",
     "output_type": "stream",
     "text": [
      "bm25 trained\n"
     ]
    }
   ],
   "source": [
    "for i, model in enumerate(models):\n",
    "    model.fit(datas[i])\n",
    "    \n",
    "    trained_models.append(model)\n",
    "    print(f\"{model_names[i]} trained\")\n",
    "    "
   ]
  },
  {
   "cell_type": "code",
   "execution_count": 58,
   "id": "0ec07942",
   "metadata": {},
   "outputs": [
    {
     "data": {
      "text/plain": [
       "<1x944 sparse matrix of type '<class 'numpy.float64'>'\n",
       "\twith 501 stored elements in Compressed Sparse Row format>"
      ]
     },
     "execution_count": 58,
     "metadata": {},
     "output_type": "execute_result"
    }
   ],
   "source": [
    "ratings[to_generate[0]]"
   ]
  },
  {
   "cell_type": "code",
   "execution_count": 64,
   "id": "b592274c",
   "metadata": {},
   "outputs": [
    {
     "data": {
      "text/plain": [
       "(array([ 50, 789, 150, 582, 736,  27, 501, 869, 529, 241, 105, 266],\n",
       "       dtype=int32),\n",
       " array([0.9999998 , 0.41210485, 0.36812308, 0.33589113, 0.33532268,\n",
       "        0.3136305 , 0.31298774, 0.30450404, 0.28677464, 0.28241003,\n",
       "        0.27786496, 0.2726795 ], dtype=float32))"
      ]
     },
     "execution_count": 64,
     "metadata": {},
     "output_type": "execute_result"
    }
   ],
   "source": [
    "models[0].similar_items(to_generate[0],12)"
   ]
  },
  {
   "cell_type": "code",
   "execution_count": 60,
   "id": "df248eb5",
   "metadata": {},
   "outputs": [
    {
     "data": {
      "text/plain": [
       "(array([919, 327, 259, 881, 931, 870, 821, 941, 390,  30, 417, 677],\n",
       "       dtype=int32),\n",
       " array([0.93889844, 0.93549114, 0.8187277 , 0.7528515 , 0.7081747 ,\n",
       "        0.6909183 , 0.688522  , 0.6808297 , 0.6799457 , 0.67739385,\n",
       "        0.67010164, 0.6612667 ], dtype=float32))"
      ]
     },
     "execution_count": 60,
     "metadata": {},
     "output_type": "execute_result"
    }
   ],
   "source": [
    "models[0].recommend(to_generate[0], ratings[to_generate[0]], 12)"
   ]
  },
  {
   "cell_type": "code",
   "execution_count": 59,
   "id": "004add30",
   "metadata": {},
   "outputs": [
    {
     "data": {
      "text/plain": [
       "(array([919, 327, 259, 881, 931, 870, 821, 941, 390,  30], dtype=int32),\n",
       " array([0.93889844, 0.93549114, 0.8187277 , 0.7528515 , 0.7081747 ,\n",
       "        0.6909183 , 0.688522  , 0.6808297 , 0.6799457 , 0.67739385],\n",
       "       dtype=float32))"
      ]
     },
     "execution_count": 59,
     "metadata": {},
     "output_type": "execute_result"
    }
   ],
   "source": [
    "models[0].recommend(to_generate[0], ratings[to_generate[0]])"
   ]
  }
 ],
 "metadata": {
  "kernelspec": {
   "display_name": "my_env",
   "language": "python",
   "name": "my_env"
  },
  "language_info": {
   "codemirror_mode": {
    "name": "ipython",
    "version": 3
   },
   "file_extension": ".py",
   "mimetype": "text/x-python",
   "name": "python",
   "nbconvert_exporter": "python",
   "pygments_lexer": "ipython3",
   "version": "3.8.13"
  }
 },
 "nbformat": 4,
 "nbformat_minor": 5
}
