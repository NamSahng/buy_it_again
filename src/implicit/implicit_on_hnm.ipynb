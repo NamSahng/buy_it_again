{
 "cells": [
  {
   "cell_type": "markdown",
   "id": "2c406934",
   "metadata": {},
   "source": [
    "\n",
    "- 기존 캐글 레포\n",
    "    - 마지막말짜 9월 22일 / 8월 21일 이후의 데이터만을 사용해 학습\n",
    "    - COO 매트릭스 구성\n",
    "        - 8월 21일 이후의 상품, 유저를 고려하는 것이 아라\n",
    "        - 전체 사용자, 전체 상품에 대해서 고려함\n",
    "        \n",
    "        \n",
    "- 사용자는 전체 사용자로, 상품은 버리는 것으로 변경\n",
    "    - 1주일 안에 계절성이 크게 변화하지는 않음\n",
    "    \n",
    "    \n",
    "- 고객 & 아이템 세그멘트 별"
   ]
  },
  {
   "cell_type": "code",
   "execution_count": 1,
   "id": "f60cc8a2",
   "metadata": {},
   "outputs": [],
   "source": [
    "import argparse\n",
    "import logging\n",
    "\n",
    "# import nni\n",
    "# from nni.utils import merge_parameter\n",
    "\n",
    "import implicit\n",
    "\n",
    "from scipy.sparse import coo_matrix\n",
    "from implicit.evaluation import mean_average_precision_at_k\n",
    "\n",
    "import os\n",
    "import datetime\n",
    "\n",
    "import numpy as np\n",
    "import pandas as pd\n",
    "import sys\n",
    "sys.path.insert(0, '../../')\n",
    "from src.utils.preprocess import *\n",
    "logger = logging.getLogger(\"nni_implicit\")"
   ]
  },
  {
   "cell_type": "code",
   "execution_count": 2,
   "id": "66a86330",
   "metadata": {},
   "outputs": [],
   "source": [
    "\n",
    "def to_user_item_coo(df, unique_users, unique_items):\n",
    "    row = df['user_id'].values\n",
    "    col = df['item_id'].values    \n",
    "    data = np.ones(df.shape[0])\n",
    "    coo = coo_matrix((data, (row, col)), shape=(len(unique_users), len(unique_items)))\n",
    "    return coo\n",
    "\n",
    "\n",
    "def preprocess(trans_df, art_df, use_week_num, users2num, use_full_item):\n",
    "    use_week_num += 1 # for validation 1 week\n",
    "    start_date = trans_df.t_dat.max() - datetime.timedelta(7 * use_week_num)\n",
    "    cur_trans_df = trans_df[trans_df['t_dat'] > start_date]\n",
    "\n",
    "    if use_full_item == False:\n",
    "        items = cur_trans_df.article_id.unique().tolist()\n",
    "    else:\n",
    "        items = art_df.article_id.unique().tolist()\n",
    "        \n",
    "    num2items = dict(list(enumerate(items)))\n",
    "    items2num = dict(zip(num2items.values(), num2items.keys()))\n",
    "\n",
    "    cur_trans_df['user_id'] = cur_trans_df.customer_id.map(users2num)\n",
    "    cur_trans_df['item_id'] = cur_trans_df.article_id.map(items2num)\n",
    "\n",
    "    train_df, val_df = split_train_valid(cur_trans_df, 0)\n",
    "\n",
    "    coo_train = to_user_item_coo(train_df, users2num.values(), items)\n",
    "    coo_val = to_user_item_coo(val_df, users2num.values(), items)\n",
    "    \n",
    "    csr_train = coo_train.tocsr()\n",
    "    csr_val = coo_val.tocsr()\n",
    "    return {'coo_train': coo_train,\n",
    "            'csr_train': csr_train,\n",
    "            'csr_val': csr_val\n",
    "          }\n"
   ]
  },
  {
   "cell_type": "code",
   "execution_count": 3,
   "id": "9e48f256",
   "metadata": {},
   "outputs": [],
   "source": [
    "seed = 2022\n",
    "folder = '../../data/'\n",
    "logger.info(os.getcwd())\n",
    "art_df = pd.read_csv(os.path.join(folder, \"articles.csv\"))\n",
    "cus_df = pd.read_csv(os.path.join(folder, \"customers.csv\"))\n",
    "trans_df = pd.read_csv(os.path.join(folder, \"transactions_train.csv\"))\n",
    "trans_df = make_weeknum_col(trans_df)\n",
    "trans_df['t_dat'] = pd.to_datetime(trans_df['t_dat'])\n",
    "users = cus_df.customer_id.unique().tolist()\n",
    "num2users = dict(list(enumerate(users)))\n",
    "users2num = dict(zip(num2users.values(), num2users.keys()))"
   ]
  },
  {
   "cell_type": "code",
   "execution_count": 27,
   "id": "d27ea7c0",
   "metadata": {},
   "outputs": [
    {
     "name": "stderr",
     "output_type": "stream",
     "text": [
      "/tmp/ipykernel_41186/764206682.py:22: SettingWithCopyWarning: \n",
      "A value is trying to be set on a copy of a slice from a DataFrame.\n",
      "Try using .loc[row_indexer,col_indexer] = value instead\n",
      "\n",
      "See the caveats in the documentation: https://pandas.pydata.org/pandas-docs/stable/user_guide/indexing.html#returning-a-view-versus-a-copy\n",
      "  cur_trans_df['user_id'] = cur_trans_df.customer_id.map(users2num)\n",
      "/tmp/ipykernel_41186/764206682.py:23: SettingWithCopyWarning: \n",
      "A value is trying to be set on a copy of a slice from a DataFrame.\n",
      "Try using .loc[row_indexer,col_indexer] = value instead\n",
      "\n",
      "See the caveats in the documentation: https://pandas.pydata.org/pandas-docs/stable/user_guide/indexing.html#returning-a-view-versus-a-copy\n",
      "  cur_trans_df['item_id'] = cur_trans_df.article_id.map(items2num)\n"
     ]
    }
   ],
   "source": [
    "model = 'lmf'\n",
    "factors = 5\n",
    "iterations = 1\n",
    "regularization = 0.1\n",
    "use_week_num = 2\n",
    "use_full_item = True\n",
    "\n",
    "matrices = preprocess(trans_df, art_df, use_week_num, users2num, use_full_item)    "
   ]
  },
  {
   "cell_type": "code",
   "execution_count": 28,
   "id": "e11a9d27",
   "metadata": {},
   "outputs": [
    {
     "data": {
      "text/plain": [
       "<1371980x105542 sparse matrix of type '<class 'numpy.float64'>'\n",
       "\twith 462382 stored elements in Compressed Sparse Row format>"
      ]
     },
     "execution_count": 28,
     "metadata": {},
     "output_type": "execute_result"
    }
   ],
   "source": [
    "csr_train"
   ]
  },
  {
   "cell_type": "code",
   "execution_count": 32,
   "id": "a3be9283",
   "metadata": {},
   "outputs": [],
   "source": [
    "coo_train, csr_train, csr_val = matrices['coo_train'], matrices['csr_train'], matrices['csr_val']\n",
    "if model == 'als':\n",
    "    model = implicit.als.AlternatingLeastSquares(factors=factors, \n",
    "                                                iterations=iterations, \n",
    "                                                regularization=regularization, \n",
    "                                                random_state=seed)\n",
    "elif model == 'bpr':\n",
    "    model = implicit.bpr.BayesianPersonalizedRanking(factors=factors, \n",
    "                                                    iterations=iterations, \n",
    "                                                    regularization=regularization, \n",
    "                                                    random_state=seed)\n",
    "elif model == 'lmf':                    \n",
    "    model = implicit.lmf.LogisticMatrixFactorization(factors=factors, \n",
    "                                                    regularization=regularization, \n",
    "                                                    iterations=iterations, \n",
    "                                                    random_state=seed)\n",
    "model.fit(csr_train, show_progress=False)"
   ]
  },
  {
   "cell_type": "code",
   "execution_count": 33,
   "id": "108c0aab",
   "metadata": {},
   "outputs": [
    {
     "data": {
      "text/plain": [
       "<implicit.cpu.lmf.LogisticMatrixFactorization at 0x7f83ffe3fa00>"
      ]
     },
     "execution_count": 33,
     "metadata": {},
     "output_type": "execute_result"
    }
   ],
   "source": [
    "model"
   ]
  },
  {
   "cell_type": "code",
   "execution_count": 30,
   "id": "dab216b9",
   "metadata": {},
   "outputs": [
    {
     "data": {
      "text/plain": [
       "<1371980x105542 sparse matrix of type '<class 'numpy.float64'>'\n",
       "\twith 462382 stored elements in Compressed Sparse Row format>"
      ]
     },
     "execution_count": 30,
     "metadata": {},
     "output_type": "execute_result"
    }
   ],
   "source": [
    "csr_train"
   ]
  },
  {
   "cell_type": "code",
   "execution_count": 17,
   "id": "79637368",
   "metadata": {},
   "outputs": [
    {
     "data": {
      "text/plain": [
       "0.0010878045365273778"
      ]
     },
     "execution_count": 17,
     "metadata": {},
     "output_type": "execute_result"
    }
   ],
   "source": [
    "model = implicit.als.AlternatingLeastSquares(factors=factors, \n",
    "                                                iterations=iterations, \n",
    "                                                regularization=regularization, \n",
    "                                                random_state=seed)\n",
    "model.fit(coo_train, show_progress=False)\n",
    "map12 = mean_average_precision_at_k(model, csr_train, csr_val, K=12, show_progress=False, num_threads=4)\n",
    "map12"
   ]
  },
  {
   "cell_type": "code",
   "execution_count": 18,
   "id": "ca61d6ac",
   "metadata": {},
   "outputs": [
    {
     "data": {
      "text/plain": [
       "0.0013552869156394198"
      ]
     },
     "execution_count": 18,
     "metadata": {},
     "output_type": "execute_result"
    }
   ],
   "source": [
    "model = implicit.bpr.BayesianPersonalizedRanking(factors=factors, \n",
    "                                                    iterations=iterations, \n",
    "                                                    regularization=regularization, \n",
    "                                                    random_state=seed)\n",
    "model.fit(csr_train, show_progress=False)\n",
    "map12 = mean_average_precision_at_k(model, csr_train, csr_val, K=12, show_progress=False, num_threads=4)\n",
    "map12"
   ]
  },
  {
   "cell_type": "code",
   "execution_count": null,
   "id": "954393c3",
   "metadata": {},
   "outputs": [],
   "source": []
  },
  {
   "cell_type": "code",
   "execution_count": null,
   "id": "a195e647",
   "metadata": {},
   "outputs": [],
   "source": []
  },
  {
   "cell_type": "code",
   "execution_count": null,
   "id": "949f3752",
   "metadata": {},
   "outputs": [],
   "source": []
  },
  {
   "cell_type": "code",
   "execution_count": null,
   "id": "8810baad",
   "metadata": {},
   "outputs": [],
   "source": []
  },
  {
   "cell_type": "code",
   "execution_count": null,
   "id": "cb6d21b3",
   "metadata": {},
   "outputs": [],
   "source": []
  },
  {
   "cell_type": "code",
   "execution_count": null,
   "id": "6293c2e7",
   "metadata": {},
   "outputs": [],
   "source": []
  },
  {
   "cell_type": "code",
   "execution_count": null,
   "id": "2c1a2f56",
   "metadata": {},
   "outputs": [],
   "source": []
  },
  {
   "cell_type": "code",
   "execution_count": null,
   "id": "d270fed7",
   "metadata": {},
   "outputs": [],
   "source": []
  }
 ],
 "metadata": {
  "kernelspec": {
   "display_name": "my_env",
   "language": "python",
   "name": "my_env"
  },
  "language_info": {
   "codemirror_mode": {
    "name": "ipython",
    "version": 3
   },
   "file_extension": ".py",
   "mimetype": "text/x-python",
   "name": "python",
   "nbconvert_exporter": "python",
   "pygments_lexer": "ipython3",
   "version": "3.8.13"
  }
 },
 "nbformat": 4,
 "nbformat_minor": 5
}
