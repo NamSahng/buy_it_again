{
 "cells": [
  {
   "cell_type": "markdown",
   "id": "91fe74c3",
   "metadata": {},
   "source": [
    "# Kaggle - Trending Products Weekly\n",
    "\n",
    "\n",
    "- Validation on last on week:\n",
    "    - MAP@12: 0.02554321196726997\n",
    "    - test private : 0.02165\n",
    "    - test public : 0.02137\n",
    "\n",
    "\n",
    "\n",
    "- References:\n",
    "    - https://www.kaggle.com/code/byfone/h-m-trending-products-weekly\n",
    "    - https://www.kaggle.com/code/hervind/h-m-faster-trending-products-weekly/notebook\n",
    "    - https://www.kaggle.com/code/byfone/h-m-purchases-in-a-row/notebook\n",
    "\n",
    "\n"
   ]
  },
  {
   "cell_type": "code",
   "execution_count": 1,
   "id": "827e342e",
   "metadata": {},
   "outputs": [],
   "source": [
    "import os\n",
    "import gc\n",
    "\n",
    "import numpy as np\n",
    "import pandas as pd\n",
    "import matplotlib.pyplot as plt\n",
    "\n",
    "from tqdm import tqdm\n",
    "from scipy.optimize import curve_fit\n",
    "from joblib import dump, load\n",
    "\n",
    "\n",
    "import sys\n",
    "sys.path.insert(0, '../')\n",
    "\n",
    "from utils.preprocess import *\n",
    "from utils.evaluate import mapk, apk\n"
   ]
  },
  {
   "cell_type": "code",
   "execution_count": 2,
   "id": "45ca7708",
   "metadata": {},
   "outputs": [
    {
     "name": "stderr",
     "output_type": "stream",
     "text": [
      "/var/folders/fl/l7bfgt6j3lz29pwdkr0_537r0000gn/T/ipykernel_8386/2555159546.py:12: SettingWithCopyWarning: \n",
      "A value is trying to be set on a copy of a slice from a DataFrame.\n",
      "Try using .loc[row_indexer,col_indexer] = value instead\n",
      "\n",
      "See the caveats in the documentation: https://pandas.pydata.org/pandas-docs/stable/user_guide/indexing.html#returning-a-view-versus-a-copy\n",
      "  train_df['t_dat'] = pd.to_datetime(train_df.t_dat)\n",
      "/var/folders/fl/l7bfgt6j3lz29pwdkr0_537r0000gn/T/ipykernel_8386/2555159546.py:13: SettingWithCopyWarning: \n",
      "A value is trying to be set on a copy of a slice from a DataFrame.\n",
      "Try using .loc[row_indexer,col_indexer] = value instead\n",
      "\n",
      "See the caveats in the documentation: https://pandas.pydata.org/pandas-docs/stable/user_guide/indexing.html#returning-a-view-versus-a-copy\n",
      "  val_df['t_dat'] = pd.to_datetime(val_df.t_dat)\n"
     ]
    }
   ],
   "source": [
    "\n",
    "folder = '../../../h-and-m-recommender/data/'\n",
    "\n",
    "art_df = pd.read_csv(os.path.join(folder, \"articles.csv\"))\n",
    "cus_df = pd.read_csv(os.path.join(folder, \"customers.csv\"))\n",
    "trans_df = pd.read_csv(os.path.join(folder, \"transactions_train.csv\"))\n",
    "\n",
    "trans_df = make_weeknum_col(trans_df)\n",
    "# week_num 0 is latest week of the transaction\n",
    "train_df, val_df = split_train_valid(trans_df, 0)\n",
    "# val_df = valid2submission(val_df)\n",
    "\n",
    "train_df['t_dat'] = pd.to_datetime(train_df.t_dat)\n",
    "val_df['t_dat'] = pd.to_datetime(val_df.t_dat)\n"
   ]
  },
  {
   "cell_type": "code",
   "execution_count": 3,
   "id": "47df6fbb",
   "metadata": {},
   "outputs": [],
   "source": [
    "\n",
    "# gb: (고객, 제품)별 날짜에 unique한 거래 횟수\n",
    "# inx: 2번 이상 거래된 (고객, 제품)인덱스\n",
    "gb = train_df.groupby(['customer_id', 'article_id'])['t_dat'].nunique()\n",
    "inx = gb[gb>1].index\n",
    "\n",
    "# rp_train_df: 2번 이상 거래된 \n",
    "rp_train_df = train_df.set_index(['customer_id', 'article_id'])\n",
    "rp_train_df = rp_train_df.loc[inx].copy().sort_index()\n",
    "\n",
    "rp_train_df['shift_dat'] = rp_train_df.groupby(level=[0,1])['t_dat'].shift(1)\n",
    "rp_train_df['dist'] = (rp_train_df['t_dat'] - rp_train_df['shift_dat']).dt.days\n",
    "dist = rp_train_df.loc[rp_train_df['dist'].notna(), 'dist'].values\n",
    "\n"
   ]
  },
  {
   "cell_type": "code",
   "execution_count": 4,
   "id": "1c20e21c",
   "metadata": {},
   "outputs": [
    {
     "data": {
      "text/plain": [
       "0.0    442595\n",
       "1.0    133620\n",
       "2.0    130443\n",
       "3.0    105650\n",
       "4.0     82815\n",
       "Name: dist, dtype: int64"
      ]
     },
     "metadata": {},
     "output_type": "display_data"
    },
    {
     "data": {
      "text/plain": [
       "1.0    133620\n",
       "2.0    130443\n",
       "3.0    105650\n",
       "4.0     82815\n",
       "5.0     63829\n",
       "Name: dist, dtype: int64"
      ]
     },
     "metadata": {},
     "output_type": "display_data"
    }
   ],
   "source": [
    "vc = rp_train_df['dist'].value_counts()\n",
    "display(vc.head())\n",
    "# 하루 이상의 제품-고객 거래의 시간 간격 개수 \n",
    "vc = vc[1:]\n",
    "display(vc.head())\n"
   ]
  },
  {
   "cell_type": "markdown",
   "id": "0514055b",
   "metadata": {},
   "source": [
    "- line fitting on \n",
    "    - ${{a}\\over{\\sqrt{x}}} + b\\exp(-c x) + d$\n",
    "\n",
    "- 저자 설명: This value allows us to take into account the dependence of the probability of a repeat purchase on the number of days that have passed since the previous purchase of this product.\n",
    "    - 이전 구매와의 시간 간격에 대한 반복 구매 확률을 고려할 수 있다.\n",
    "    - 위 통계량을 likelihood로 사용하는 것 같다\n",
    "- https://www.kaggle.com/code/byfone/h-m-trending-products-weekly/comments"
   ]
  },
  {
   "cell_type": "code",
   "execution_count": 5,
   "id": "62c7c1ea",
   "metadata": {},
   "outputs": [
    {
     "name": "stderr",
     "output_type": "stream",
     "text": [
      "/Users/nys/miniforge3/envs/torch/lib/python3.8/site-packages/pandas/core/indexes/base.py:920: RuntimeWarning: overflow encountered in exp\n",
      "  result = getattr(ufunc, method)(*new_inputs, **kwargs)\n",
      "/Users/nys/miniforge3/envs/torch/lib/python3.8/site-packages/pandas/core/indexes/base.py:920: RuntimeWarning: overflow encountered in exp\n",
      "  result = getattr(ufunc, method)(*new_inputs, **kwargs)\n",
      "/Users/nys/miniforge3/envs/torch/lib/python3.8/site-packages/pandas/core/indexes/base.py:920: RuntimeWarning: overflow encountered in exp\n",
      "  result = getattr(ufunc, method)(*new_inputs, **kwargs)\n",
      "/Users/nys/miniforge3/envs/torch/lib/python3.8/site-packages/pandas/core/indexes/base.py:920: RuntimeWarning: overflow encountered in exp\n",
      "  result = getattr(ufunc, method)(*new_inputs, **kwargs)\n"
     ]
    },
    {
     "data": {
      "image/png": "[encoded data removed]",
      "text/plain": [
       "<Figure size 432x288 with 1 Axes>"
      ]
     },
     "metadata": {
      "needs_background": "light"
     },
     "output_type": "display_data"
    }
   ],
   "source": [
    "def func(x, a, b, c, d):\n",
    "    return a / np.sqrt(x) + b * np.exp(-c*x) + d\n",
    "# vc.index : 재구매 일수\n",
    "# vc.values : 재구매 일수 별 횟수\n",
    "popt, pcov = curve_fit(func, vc.index, vc.values)\n",
    "\n",
    "plt.plot(vc.index[:100], vc.values[:100], 'b-', label='data')\n",
    "plt.plot(vc.index[:100], func(vc.index[:100], *popt), 'r-',\n",
    "         label='fit: a=%5.3f, b=%5.3f, c=%5.3f, d=%5.3f' % tuple(popt))\n",
    "\n",
    "plt.xlabel('x')\n",
    "plt.ylabel('y')\n",
    "plt.legend()\n",
    "plt.show()"
   ]
  },
  {
   "cell_type": "code",
   "execution_count": 6,
   "id": "b4e93fe1",
   "metadata": {},
   "outputs": [],
   "source": [
    "N = 12\n",
    "\n",
    "last_ts = train_df['t_dat'].max()\n",
    "\n",
    "tmp = train_df[['t_dat']].copy()\n",
    "# day of week\n",
    "tmp['dow'] = tmp['t_dat'].dt.dayofweek\n",
    "#  Monday=0, ... ,Sunday=6\n",
    "\n",
    "# last day of billing week\n",
    "tmp['ldbw'] = tmp['t_dat'] - pd.TimedeltaIndex(tmp['dow'] - 1, unit='D')\n",
    "\n",
    "tmp.loc[tmp['dow'] >=2, 'ldbw'] = tmp.loc[tmp['dow'] >=2 , 'ldbw'] + \\\n",
    "                        pd.TimedeltaIndex(np.ones(len(tmp.loc[tmp['dow'] >=2])) * 7, unit='D')\n",
    "\n"
   ]
  },
  {
   "cell_type": "code",
   "execution_count": 7,
   "id": "8a5816f8",
   "metadata": {},
   "outputs": [
    {
     "data": {
      "text/html": [
       "<div>\n",
       "<style scoped>\n",
       "    .dataframe tbody tr th:only-of-type {\n",
       "        vertical-align: middle;\n",
       "    }\n",
       "\n",
       "    .dataframe tbody tr th {\n",
       "        vertical-align: top;\n",
       "    }\n",
       "\n",
       "    .dataframe thead th {\n",
       "        text-align: right;\n",
       "    }\n",
       "</style>\n",
       "<table border=\"1\" class=\"dataframe\">\n",
       "  <thead>\n",
       "    <tr style=\"text-align: right;\">\n",
       "      <th></th>\n",
       "      <th>t_dat</th>\n",
       "      <th>dow</th>\n",
       "      <th>ldbw</th>\n",
       "    </tr>\n",
       "  </thead>\n",
       "  <tbody>\n",
       "    <tr>\n",
       "      <th>31183483</th>\n",
       "      <td>2020-09-06</td>\n",
       "      <td>6</td>\n",
       "      <td>2020-09-08</td>\n",
       "    </tr>\n",
       "    <tr>\n",
       "      <th>31218444</th>\n",
       "      <td>2020-09-07</td>\n",
       "      <td>0</td>\n",
       "      <td>2020-09-08</td>\n",
       "    </tr>\n",
       "    <tr>\n",
       "      <th>31256357</th>\n",
       "      <td>2020-09-08</td>\n",
       "      <td>1</td>\n",
       "      <td>2020-09-08</td>\n",
       "    </tr>\n",
       "    <tr>\n",
       "      <th>31292772</th>\n",
       "      <td>2020-09-09</td>\n",
       "      <td>2</td>\n",
       "      <td>2020-09-15</td>\n",
       "    </tr>\n",
       "    <tr>\n",
       "      <th>31334398</th>\n",
       "      <td>2020-09-10</td>\n",
       "      <td>3</td>\n",
       "      <td>2020-09-15</td>\n",
       "    </tr>\n",
       "    <tr>\n",
       "      <th>31374659</th>\n",
       "      <td>2020-09-11</td>\n",
       "      <td>4</td>\n",
       "      <td>2020-09-15</td>\n",
       "    </tr>\n",
       "    <tr>\n",
       "      <th>31412220</th>\n",
       "      <td>2020-09-12</td>\n",
       "      <td>5</td>\n",
       "      <td>2020-09-15</td>\n",
       "    </tr>\n",
       "    <tr>\n",
       "      <th>31452491</th>\n",
       "      <td>2020-09-13</td>\n",
       "      <td>6</td>\n",
       "      <td>2020-09-15</td>\n",
       "    </tr>\n",
       "    <tr>\n",
       "      <th>31492019</th>\n",
       "      <td>2020-09-14</td>\n",
       "      <td>0</td>\n",
       "      <td>2020-09-15</td>\n",
       "    </tr>\n",
       "    <tr>\n",
       "      <th>31521960</th>\n",
       "      <td>2020-09-15</td>\n",
       "      <td>1</td>\n",
       "      <td>2020-09-15</td>\n",
       "    </tr>\n",
       "  </tbody>\n",
       "</table>\n",
       "</div>"
      ],
      "text/plain": [
       "              t_dat  dow       ldbw\n",
       "31183483 2020-09-06    6 2020-09-08\n",
       "31218444 2020-09-07    0 2020-09-08\n",
       "31256357 2020-09-08    1 2020-09-08\n",
       "31292772 2020-09-09    2 2020-09-15\n",
       "31334398 2020-09-10    3 2020-09-15\n",
       "31374659 2020-09-11    4 2020-09-15\n",
       "31412220 2020-09-12    5 2020-09-15\n",
       "31452491 2020-09-13    6 2020-09-15\n",
       "31492019 2020-09-14    0 2020-09-15\n",
       "31521960 2020-09-15    1 2020-09-15"
      ]
     },
     "execution_count": 7,
     "metadata": {},
     "output_type": "execute_result"
    }
   ],
   "source": [
    "# 아래와 같이 마지막 날짜를 기준으로 1주일 설정\n",
    "tmp.drop_duplicates().tail(10)\n"
   ]
  },
  {
   "cell_type": "code",
   "execution_count": 8,
   "id": "1ca3ebfb",
   "metadata": {},
   "outputs": [
    {
     "name": "stderr",
     "output_type": "stream",
     "text": [
      "/var/folders/fl/l7bfgt6j3lz29pwdkr0_537r0000gn/T/ipykernel_8386/1010821190.py:1: SettingWithCopyWarning: \n",
      "A value is trying to be set on a copy of a slice from a DataFrame.\n",
      "Try using .loc[row_indexer,col_indexer] = value instead\n",
      "\n",
      "See the caveats in the documentation: https://pandas.pydata.org/pandas-docs/stable/user_guide/indexing.html#returning-a-view-versus-a-copy\n",
      "  train_df['ldbw'] = tmp['ldbw'].values\n"
     ]
    }
   ],
   "source": [
    "train_df['ldbw'] = tmp['ldbw'].values\n",
    "\n",
    "weekly_sales = train_df.drop('customer_id', axis=1)\\\n",
    "                       .groupby(['ldbw', 'article_id'])\\\n",
    "                       .count().reset_index()\n",
    "weekly_sales = weekly_sales.rename(columns={'t_dat': 'count'})\n",
    "weekly_sales = weekly_sales[['ldbw', 'article_id', 'count']]\n",
    "\n",
    "\n",
    "train_df = train_df.merge(weekly_sales, on=['ldbw', 'article_id'], how = 'left')\n",
    "\n"
   ]
  },
  {
   "cell_type": "code",
   "execution_count": 9,
   "id": "e8df9304",
   "metadata": {},
   "outputs": [
    {
     "data": {
      "text/html": [
       "<div>\n",
       "<style scoped>\n",
       "    .dataframe tbody tr th:only-of-type {\n",
       "        vertical-align: middle;\n",
       "    }\n",
       "\n",
       "    .dataframe tbody tr th {\n",
       "        vertical-align: top;\n",
       "    }\n",
       "\n",
       "    .dataframe thead th {\n",
       "        text-align: right;\n",
       "    }\n",
       "</style>\n",
       "<table border=\"1\" class=\"dataframe\">\n",
       "  <thead>\n",
       "    <tr style=\"text-align: right;\">\n",
       "      <th></th>\n",
       "      <th>ldbw</th>\n",
       "      <th>article_id</th>\n",
       "      <th>count</th>\n",
       "    </tr>\n",
       "  </thead>\n",
       "  <tbody>\n",
       "    <tr>\n",
       "      <th>0</th>\n",
       "      <td>2018-09-25</td>\n",
       "      <td>108775015</td>\n",
       "      <td>224</td>\n",
       "    </tr>\n",
       "    <tr>\n",
       "      <th>1</th>\n",
       "      <td>2018-09-25</td>\n",
       "      <td>108775044</td>\n",
       "      <td>96</td>\n",
       "    </tr>\n",
       "    <tr>\n",
       "      <th>2</th>\n",
       "      <td>2018-09-25</td>\n",
       "      <td>108775051</td>\n",
       "      <td>31</td>\n",
       "    </tr>\n",
       "    <tr>\n",
       "      <th>3</th>\n",
       "      <td>2018-09-25</td>\n",
       "      <td>110065001</td>\n",
       "      <td>28</td>\n",
       "    </tr>\n",
       "    <tr>\n",
       "      <th>4</th>\n",
       "      <td>2018-09-25</td>\n",
       "      <td>110065002</td>\n",
       "      <td>14</td>\n",
       "    </tr>\n",
       "  </tbody>\n",
       "</table>\n",
       "</div>"
      ],
      "text/plain": [
       "        ldbw  article_id  count\n",
       "0 2018-09-25   108775015    224\n",
       "1 2018-09-25   108775044     96\n",
       "2 2018-09-25   108775051     31\n",
       "3 2018-09-25   110065001     28\n",
       "4 2018-09-25   110065002     14"
      ]
     },
     "execution_count": 9,
     "metadata": {},
     "output_type": "execute_result"
    }
   ],
   "source": [
    "# ldbw - 상품 - 팔린 횟수\n",
    "weekly_sales.head()"
   ]
  },
  {
   "cell_type": "code",
   "execution_count": 10,
   "id": "c973cf0e",
   "metadata": {},
   "outputs": [],
   "source": [
    "\n",
    "weekly_sales = weekly_sales.reset_index().set_index('article_id')\n",
    "\n",
    "# 마지막주 상품의 팔린 횟수를 count_targ으로 설정\n",
    "last_week_sales = weekly_sales.loc[weekly_sales['ldbw']==last_ts, ['count']]\n",
    "train_df = train_df.merge(last_week_sales, on='article_id', suffixes=(\"\", \"_targ\"))\n",
    "train_df['count_targ'].fillna(0, inplace=True)\n"
   ]
  },
  {
   "cell_type": "code",
   "execution_count": 11,
   "id": "7a241b95",
   "metadata": {},
   "outputs": [],
   "source": [
    "# count: 이번 주에 해당 물품 팔린 횟수 \n",
    "# count_targ: 마지막 주에 해당 물품 팔린 횟수\n",
    "# quotient = count_targ / count\n",
    "\n",
    "train_df['quotient'] = train_df['count_targ'] / train_df['count']\n"
   ]
  },
  {
   "cell_type": "code",
   "execution_count": 12,
   "id": "9026ccd3",
   "metadata": {},
   "outputs": [],
   "source": [
    "purchase_dict = {}\n",
    "\n",
    "# x : 마지막 날짜와 시간 간격, 마지막 날짜의 거래의 시간간격은 1로 설정\n",
    "tmp = train_df.copy()\n",
    "tmp['x'] = ((last_ts - tmp['t_dat']) / np.timedelta64(1, 'D')).astype(int)\n",
    "tmp['dummy_1'] = 1 \n",
    "tmp['x'] = tmp[[\"x\", \"dummy_1\"]].max(axis=1)\n",
    "\n"
   ]
  },
  {
   "cell_type": "code",
   "execution_count": 13,
   "id": "06d15206",
   "metadata": {},
   "outputs": [],
   "source": [
    "# 위에서 fitting한 식에 대하여, 재구매가 일어날 가능도 처럼 사용\n",
    "# y = 재구매가 일어날 수 있는 가능도\n",
    "\n",
    "a, b, c, d = popt\n",
    "tmp['y'] = a / np.sqrt(tmp['x']) + b * np.exp(-c*tmp['x']) - d\n",
    "\n",
    "# quotient = 마지막 주에 해당 물품 팔린 횟수 / 해당 주에 해당 물품 팔린 횟수 \n",
    "# value = 해당 상품 예상 재구매 가능도 * 마지막 주에 해당상품 팔린 횟수 / 해당 주에 해당 물품 팔린 횟수 \n",
    "\n",
    "tmp['dummy_0'] = 0 \n",
    "tmp['y'] = tmp[[\"y\", \"dummy_0\"]].max(axis=1)\n",
    "tmp['value'] = tmp['quotient'] * tmp['y'] \n"
   ]
  },
  {
   "cell_type": "markdown",
   "id": "05093afc",
   "metadata": {},
   "source": [
    "- y 값은 전체 거래에 대하여 재구매가 일어날 수 있는 값\n",
    "    - 이것을 상품 & 고객 별로 다르게 MPG모델의 확률값으로 변경"
   ]
  },
  {
   "cell_type": "code",
   "execution_count": 14,
   "id": "76814916",
   "metadata": {},
   "outputs": [
    {
     "data": {
      "text/plain": [
       "3527"
      ]
     },
     "execution_count": 14,
     "metadata": {},
     "output_type": "execute_result"
    }
   ],
   "source": [
    "del train_df, val_df\n",
    "import gc; gc.collect()"
   ]
  },
  {
   "cell_type": "code",
   "execution_count": 15,
   "id": "42c71629",
   "metadata": {},
   "outputs": [],
   "source": [
    "from buyitagain.preprocess_bia import *\n",
    "from buyitagain.utils_bia import *"
   ]
  },
  {
   "cell_type": "code",
   "execution_count": 16,
   "id": "13880e5e",
   "metadata": {},
   "outputs": [],
   "source": [
    "art_df = pd.read_csv(os.path.join(folder, \"articles.csv\"))\n",
    "cus_df = pd.read_csv(os.path.join(folder, \"customers.csv\"))\n",
    "trans_df = pd.read_csv(os.path.join(folder, \"transactions_train.csv\"))\n",
    "\n",
    "trans_df = make_weeknum_col(trans_df)\n",
    "# week_num 0 is latest week of the transaction\n",
    "train_df, val_df = split_train_valid(trans_df, 0)\n",
    "# val_df = valid2submission(val_df)"
   ]
  },
  {
   "cell_type": "code",
   "execution_count": 17,
   "id": "80982a95",
   "metadata": {},
   "outputs": [],
   "source": [
    "col = 'article_id'\n",
    "rcp_threshold = 0.0\n",
    "min_num_purchased = 0"
   ]
  },
  {
   "cell_type": "code",
   "execution_count": 18,
   "id": "c686f8a4",
   "metadata": {},
   "outputs": [],
   "source": [
    "\n",
    "\n",
    "use_cols = ['t_dat', 'customer_id', 'article_id']\n",
    "train_df = train_df[use_cols]\n",
    "\n",
    "# https://www.kaggle.com/code/lichtlab/do-customers-buy-the-same-products-again\n",
    "art_df['idxgrp_idx_prdtyp'] = art_df['index_group_name'] + '_' + art_df['index_name'] + '_' + art_df['product_type_name'] \n",
    "\n",
    "use_cols = ['article_id', 'prod_name', 'idxgrp_idx_prdtyp']\n",
    "sample_art_df = art_df[use_cols]\n",
    "train_df = pd.merge(train_df, sample_art_df, how='left', on='article_id')\n",
    "\n",
    "train_df['t_dat'] = pd.to_datetime(train_df['t_dat'])\n",
    "train_df['trans_idx'] = train_df.index\n",
    "\n",
    "col_train_df = train_df.drop_duplicates(subset=[\"t_dat\", \"customer_id\", col], keep='last')\n",
    "\n",
    "col_train_df = make_time_interval_col(col_train_df, col)\n",
    "\n",
    "col_g_df = groupby_cid_artinfo(col_train_df, col)\n",
    "\n",
    "col_g_df = make_rcp_df(col_g_df, col)\n",
    "\n"
   ]
  },
  {
   "cell_type": "code",
   "execution_count": 19,
   "id": "35ba1033",
   "metadata": {},
   "outputs": [
    {
     "name": "stdout",
     "output_type": "stream",
     "text": [
      "재구매가능 상품의 최소 고객수: 1\n"
     ]
    }
   ],
   "source": [
    "rp_col = get_repeat_purchasable(col_g_df, rcp_threshold, denom_customer_num=1)\n",
    "\n",
    "use_cols = ['article_id', 'prod_name', 'idxgrp_idx_prdtyp']\n",
    "if col == 'article_id':\n",
    "    rp_col = pd.merge(rp_col, art_df[use_cols], \n",
    "                      on=col, how='left')\n",
    "    rp_col.sort_values('rcp', ascending=False).head(23)\n",
    "\n",
    "col_train_df = col_train_df[col_train_df[col].isin(rp_col[col])]\n"
   ]
  },
  {
   "cell_type": "code",
   "execution_count": null,
   "id": "a3210fde",
   "metadata": {
    "scrolled": true
   },
   "outputs": [],
   "source": [
    "# error_aids = []\n",
    "\n",
    "# def get_shape_rate(row, artinfo_train_df, col):\n",
    "#     cur_aid =  row[col]\n",
    "#     # 이걸 groupby로 변경\n",
    "#     cur_dist = artinfo_train_df[artinfo_train_df[col] == cur_aid][f'{col}_dist']\n",
    "#     cur_dist = cur_dist[~np.isnan(cur_dist)]\n",
    "#     shape, rate = np.nan, np.nan\n",
    "#     try:\n",
    "#         shape, _, scale = stats.gamma.fit(cur_dist) # shape, loc, scale\n",
    "#         rate = (1/scale)\n",
    "#     except:\n",
    "#         error_aids.append(cur_aid)\n",
    "#     finally:\n",
    "#         return shape, rate\n",
    "\n",
    "\n",
    "\n",
    "# from tqdm import tqdm\n",
    "# tqdm.pandas()\n",
    "# rp_col[['shape', 'rate']] = rp_col.progress_apply(lambda x: get_shape_rate(x, col_train_df, col), axis=1, result_type='expand')\n",
    "\n",
    "# rp_col.to_csv('./rp_col.csv', index=False)"
   ]
  },
  {
   "cell_type": "code",
   "execution_count": 20,
   "id": "4d82a100",
   "metadata": {},
   "outputs": [
    {
     "name": "stderr",
     "output_type": "stream",
     "text": [
      "/Users/nys/miniforge3/envs/torch/lib/python3.8/site-packages/scipy/stats/_distn_infrastructure.py:406: RuntimeWarning: invalid value encountered in double_scalars\n",
      "  return m3 / np.power(m2, 1.5)\n"
     ]
    }
   ],
   "source": [
    "unique_idxgrp = rp_col.idxgrp_idx_prdtyp.unique()\n",
    "\n",
    "dist_df = col_train_df[~col_train_df.article_id_dist.isna()][['idxgrp_idx_prdtyp', 'article_id_dist']]\n",
    "dist_gb = pd.DataFrame(dist_df.groupby('idxgrp_idx_prdtyp')['article_id_dist'].apply(list))\n",
    "\n",
    "def apply_gamma_fit(x):\n",
    "    try :\n",
    "        shape, _, scale = stats.gamma.fit(x['article_id_dist'])\n",
    "        rate = (1/scale)\n",
    "    except:\n",
    "        shape, rate = np.nan, np.nan\n",
    "    return shape, rate\n",
    "\n",
    "dist_gb[['shape', 'rate']] = dist_gb.apply(lambda x: apply_gamma_fit(x),axis=1, result_type='expand')"
   ]
  },
  {
   "cell_type": "code",
   "execution_count": 21,
   "id": "06360c58",
   "metadata": {},
   "outputs": [],
   "source": [
    "dist_gb['len_dist'] = dist_gb['article_id_dist'].apply(len)\n",
    "dist_gb[['shape', 'rate','len_dist', 'article_id_dist']].sort_values(by= 'shape', ascending=False).head(30)\n",
    "dist_gb[['shape', 'rate','len_dist', 'article_id_dist']].tail()\n",
    "dist_gb = dist_gb.reset_index()\n",
    "\n",
    "dist_gb.drop('article_id_dist', axis=1, inplace=True)"
   ]
  },
  {
   "cell_type": "code",
   "execution_count": 25,
   "id": "98c59e63",
   "metadata": {},
   "outputs": [],
   "source": [
    "rp_col = pd.read_csv('./rp_col.csv')\n",
    "rp_col = pd.merge(rp_col, dist_gb, how='left', on='idxgrp_idx_prdtyp',\n",
    "                 suffixes=('_aid', '_idxgrp'))"
   ]
  },
  {
   "cell_type": "code",
   "execution_count": 26,
   "id": "72afc256",
   "metadata": {},
   "outputs": [
    {
     "name": "stderr",
     "output_type": "stream",
     "text": [
      "/Users/nys/Desktop/h-and-m-recommender/src/trending_product_weekly/../buyitagain/preprocess_bia.py:64: SettingWithCopyWarning: \n",
      "A value is trying to be set on a copy of a slice from a DataFrame.\n",
      "Try using .loc[row_indexer,col_indexer] = value instead\n",
      "\n",
      "See the caveats in the documentation: https://pandas.pydata.org/pandas-docs/stable/user_guide/indexing.html#returning-a-view-versus-a-copy\n",
      "  val_df['t_dat'] = pd.to_datetime(val_df.t_dat)\n"
     ]
    }
   ],
   "source": [
    "\n",
    "\n",
    "col = 'article_id'\n",
    "rcp_threshold = 0.0\n",
    "min_num_purchased = 0\n",
    "\n",
    "\n",
    "rp_cid_col_df = get_rp_cid_col_df(col_train_df, col)\n",
    "\n",
    "rp_cid_col_df = rp_cid_col_df[rp_cid_col_df.cnt >= min_num_purchased]\n",
    "rp_cid_col_df = pd.merge(rp_cid_col_df, rp_col, on=col, how='left')\n",
    "\n",
    "\n",
    "rp_cid_col_df = make_date_info_col(val_df, rp_cid_col_df)\n",
    "\n",
    "rp_cid_col_df.t_min = rp_cid_col_df.t_min / np.timedelta64(1, 'D')\n",
    "rp_cid_col_df.t_max = rp_cid_col_df.t_max / np.timedelta64(1, 'D')\n",
    "rp_cid_col_df.t_pg_min = rp_cid_col_df.t_pg_min / np.timedelta64(1, 'D')\n",
    "rp_cid_col_df.t_pg_max = rp_cid_col_df.t_pg_max / np.timedelta64(1, 'D')\n",
    "\n"
   ]
  },
  {
   "cell_type": "code",
   "execution_count": null,
   "id": "2ef6b37b",
   "metadata": {},
   "outputs": [],
   "source": [
    "# def get_lambda(row):\n",
    "#     t_min = row['t_min']\n",
    "#     t_max = row['t_max']\n",
    "#     k = row['cnt']\n",
    "#     alpha = row['shape']\n",
    "#     beta = row['rate']\n",
    "#     t_mean = row['t_mean']\n",
    "#     t_purch = row['t_purch']\n",
    "#     t_pg_min = row['t_pg_min']\n",
    "#     t_pg_max = row['t_pg_max']\n",
    "#     lambda_ac_min = calc_mpg_lambda(t_min, t_mean, t_purch, t_pg_min, k, alpha, beta)\n",
    "#     lambda_ac_max = calc_mpg_lambda(t_max, t_mean, t_purch, t_pg_max, k, alpha, beta)\n",
    "#     return lambda_ac_min, lambda_ac_max"
   ]
  },
  {
   "cell_type": "code",
   "execution_count": null,
   "id": "6a5f2c30",
   "metadata": {},
   "outputs": [],
   "source": [
    "# def calc_mpg_lambda(t, t_mean, t_purch, t_pg, k, alpha, beta):\n",
    "#     lambda_ac = None \n",
    "#     # pg\n",
    "#     if t > (t_mean * 2):\n",
    "#         lambda_ac = (k + alpha) / (t_pg + beta)\n",
    "#     # mpg\n",
    "#     else:\n",
    "#         lambda_ac = (k + alpha) / (t_purch + (2*abs(t_mean-t)) + beta)\n",
    "#     return lambda_ac"
   ]
  },
  {
   "cell_type": "markdown",
   "id": "0e7efe48",
   "metadata": {},
   "source": [
    "- t_mean이 없는 것\n",
    "    - 최대 시간 간격으로 설정\n",
    "\n",
    "- shape, rate 감마피팅이 안된 것 -> gamma prior 가 작도록\n",
    "    - shape 최소값\n",
    "    - rate 최대값\n",
    "\n",
    "    "
   ]
  },
  {
   "cell_type": "markdown",
   "id": "f7fb317b",
   "metadata": {},
   "source": [
    "- 감마피팅을\n",
    "- 아이템 특성별로 하는 것으로 변경한다"
   ]
  },
  {
   "cell_type": "code",
   "execution_count": 27,
   "id": "1ab4e1ba",
   "metadata": {},
   "outputs": [
    {
     "name": "stdout",
     "output_type": "stream",
     "text": [
      "0.9569884585401099\n",
      "0.028953320784134772\n",
      "3.6658870952408115e-05\n"
     ]
    }
   ],
   "source": [
    "# check NaN prop\n",
    "print(rp_cid_col_df.t_mean.isna().mean())\n",
    "print(rp_cid_col_df.shape_aid.isna().mean())\n",
    "print(rp_cid_col_df.shape_idxgrp.isna().mean())"
   ]
  },
  {
   "cell_type": "code",
   "execution_count": 28,
   "id": "b1aa44c5",
   "metadata": {},
   "outputs": [],
   "source": [
    "max_interval = (train_df.t_dat.max() - train_df.t_dat.min()) / np.timedelta64(1, 'D')\n",
    "min_shape = rp_cid_col_df['shape_idxgrp'].min()\n",
    "max_rate = rp_cid_col_df['rate_idxgrp'].max()\n",
    "\n",
    "rp_cid_col_df['t_mean'] = rp_cid_col_df['t_mean'].fillna(max_interval)\n",
    "rp_cid_col_df['shape_idxgrp'] = rp_cid_col_df['shape_idxgrp'].fillna(min_shape)\n",
    "rp_cid_col_df['rate_idxgrp'] = rp_cid_col_df['rate_idxgrp'].fillna(max_rate)\n",
    "\n"
   ]
  },
  {
   "cell_type": "code",
   "execution_count": 29,
   "id": "56fb6d41",
   "metadata": {},
   "outputs": [],
   "source": [
    "\n",
    "rp_cid_col_df['t_min_do_pg'] = rp_cid_col_df.t_min > (2 * rp_cid_col_df.t_mean)\n",
    "\n",
    "rp_cid_col_df.loc[rp_cid_col_df.t_min_do_pg, 'lambda_min'] = (rp_cid_col_df.cnt + rp_cid_col_df['shape_idxgrp']) \\\n",
    "                                                            / (rp_cid_col_df.t_pg_min + rp_cid_col_df.rate_idxgrp)\n",
    "\n",
    "rp_cid_col_df.loc[~rp_cid_col_df.t_min_do_pg, 'lambda_min'] = (rp_cid_col_df.cnt + rp_cid_col_df['shape_idxgrp']) \\\n",
    "                                                             / (rp_cid_col_df.t_purch + rp_cid_col_df.rate_idxgrp\\\n",
    "                                                               + (2* abs(rp_cid_col_df.t_mean - rp_cid_col_df.t_min)))\n",
    "\n",
    "\n",
    "rp_cid_col_df['t_max_do_pg'] = rp_cid_col_df.t_max > (2 * rp_cid_col_df.t_mean)\n",
    "\n",
    "\n",
    "rp_cid_col_df.loc[rp_cid_col_df.t_max_do_pg, 'lambda_max'] = (rp_cid_col_df.cnt + rp_cid_col_df['shape_idxgrp']) \\\n",
    "                                                            / (rp_cid_col_df.t_pg_max + rp_cid_col_df.rate_idxgrp)\n",
    "\n",
    "rp_cid_col_df.loc[~rp_cid_col_df.t_max_do_pg, 'lambda_max'] = (rp_cid_col_df.cnt + rp_cid_col_df['shape_idxgrp']) \\\n",
    "                                                             / (rp_cid_col_df.t_purch + rp_cid_col_df.rate_idxgrp\\\n",
    "                                                               + (2* abs(rp_cid_col_df.t_mean - rp_cid_col_df.t_max)))\n",
    "\n",
    "\n"
   ]
  },
  {
   "cell_type": "code",
   "execution_count": 30,
   "id": "23524c0d",
   "metadata": {},
   "outputs": [
    {
     "name": "stderr",
     "output_type": "stream",
     "text": [
      "/Users/nys/miniforge3/envs/torch/lib/python3.8/site-packages/pandas/core/arraylike.py:397: RuntimeWarning: overflow encountered in exp\n",
      "  result = getattr(ufunc, method)(*inputs, **kwargs)\n",
      "/Users/nys/miniforge3/envs/torch/lib/python3.8/site-packages/pandas/core/arraylike.py:397: RuntimeWarning: overflow encountered in exp\n",
      "  result = getattr(ufunc, method)(*inputs, **kwargs)\n"
     ]
    }
   ],
   "source": [
    "rp_cid_col_df['R_ac_min'] = rp_cid_col_df['lambda_min'] * np.exp(rp_cid_col_df['lambda_min'])\n",
    "rp_cid_col_df['R_ac_max'] = rp_cid_col_df['lambda_max'] * np.exp(rp_cid_col_df['lambda_max'])\n",
    "\n"
   ]
  },
  {
   "cell_type": "code",
   "execution_count": 31,
   "id": "59431632",
   "metadata": {},
   "outputs": [],
   "source": [
    "\n",
    "# purchase product density\n",
    "rp_cid_col_df['ppd_min'] = rp_cid_col_df['rcp'] * rp_cid_col_df['R_ac_min']\n",
    "rp_cid_col_df['ppd_max'] = rp_cid_col_df['rcp'] * rp_cid_col_df['R_ac_max']\n",
    "\n",
    "rp_cid_col_df = rp_cid_col_df.sort_values('ppd_max', ascending=False)\n"
   ]
  },
  {
   "cell_type": "code",
   "execution_count": 33,
   "id": "609e69b7",
   "metadata": {},
   "outputs": [
    {
     "data": {
      "text/plain": [
       "1739"
      ]
     },
     "execution_count": 33,
     "metadata": {},
     "output_type": "execute_result"
    }
   ],
   "source": [
    "gc.collect()"
   ]
  },
  {
   "cell_type": "code",
   "execution_count": 36,
   "id": "6f77306f",
   "metadata": {},
   "outputs": [
    {
     "data": {
      "text/html": [
       "<div>\n",
       "<style scoped>\n",
       "    .dataframe tbody tr th:only-of-type {\n",
       "        vertical-align: middle;\n",
       "    }\n",
       "\n",
       "    .dataframe tbody tr th {\n",
       "        vertical-align: top;\n",
       "    }\n",
       "\n",
       "    .dataframe thead th {\n",
       "        text-align: right;\n",
       "    }\n",
       "</style>\n",
       "<table border=\"1\" class=\"dataframe\">\n",
       "  <thead>\n",
       "    <tr style=\"text-align: right;\">\n",
       "      <th></th>\n",
       "      <th>t_dat</th>\n",
       "      <th>customer_id</th>\n",
       "      <th>article_id</th>\n",
       "      <th>price</th>\n",
       "      <th>sales_channel_id</th>\n",
       "      <th>week_num</th>\n",
       "      <th>ldbw</th>\n",
       "      <th>count</th>\n",
       "      <th>count_targ</th>\n",
       "      <th>quotient</th>\n",
       "      <th>x</th>\n",
       "      <th>dummy_1</th>\n",
       "      <th>y</th>\n",
       "      <th>dummy_0</th>\n",
       "      <th>value</th>\n",
       "    </tr>\n",
       "  </thead>\n",
       "  <tbody>\n",
       "    <tr>\n",
       "      <th>0</th>\n",
       "      <td>2018-09-20</td>\n",
       "      <td>001127bffdda108579e6cb16080440e89bf1250a776c6e...</td>\n",
       "      <td>397068015</td>\n",
       "      <td>0.033881</td>\n",
       "      <td>1</td>\n",
       "      <td>104</td>\n",
       "      <td>2018-09-25</td>\n",
       "      <td>83</td>\n",
       "      <td>1</td>\n",
       "      <td>0.012048</td>\n",
       "      <td>726</td>\n",
       "      <td>1</td>\n",
       "      <td>1924.033232</td>\n",
       "      <td>0</td>\n",
       "      <td>23.181123</td>\n",
       "    </tr>\n",
       "    <tr>\n",
       "      <th>1</th>\n",
       "      <td>2018-09-20</td>\n",
       "      <td>0a13e9a780aece27ca142cefc0dbdaf4b190f3bfa91e44...</td>\n",
       "      <td>397068015</td>\n",
       "      <td>0.030492</td>\n",
       "      <td>2</td>\n",
       "      <td>104</td>\n",
       "      <td>2018-09-25</td>\n",
       "      <td>83</td>\n",
       "      <td>1</td>\n",
       "      <td>0.012048</td>\n",
       "      <td>726</td>\n",
       "      <td>1</td>\n",
       "      <td>1924.033232</td>\n",
       "      <td>0</td>\n",
       "      <td>23.181123</td>\n",
       "    </tr>\n",
       "    <tr>\n",
       "      <th>2</th>\n",
       "      <td>2018-09-20</td>\n",
       "      <td>272617d7ffff349ec857032d79490ea1ab2c87ddf5ee22...</td>\n",
       "      <td>397068015</td>\n",
       "      <td>0.033881</td>\n",
       "      <td>2</td>\n",
       "      <td>104</td>\n",
       "      <td>2018-09-25</td>\n",
       "      <td>83</td>\n",
       "      <td>1</td>\n",
       "      <td>0.012048</td>\n",
       "      <td>726</td>\n",
       "      <td>1</td>\n",
       "      <td>1924.033232</td>\n",
       "      <td>0</td>\n",
       "      <td>23.181123</td>\n",
       "    </tr>\n",
       "    <tr>\n",
       "      <th>3</th>\n",
       "      <td>2018-09-20</td>\n",
       "      <td>272617d7ffff349ec857032d79490ea1ab2c87ddf5ee22...</td>\n",
       "      <td>397068015</td>\n",
       "      <td>0.033881</td>\n",
       "      <td>2</td>\n",
       "      <td>104</td>\n",
       "      <td>2018-09-25</td>\n",
       "      <td>83</td>\n",
       "      <td>1</td>\n",
       "      <td>0.012048</td>\n",
       "      <td>726</td>\n",
       "      <td>1</td>\n",
       "      <td>1924.033232</td>\n",
       "      <td>0</td>\n",
       "      <td>23.181123</td>\n",
       "    </tr>\n",
       "    <tr>\n",
       "      <th>4</th>\n",
       "      <td>2018-09-20</td>\n",
       "      <td>2db722e7da2cdd8b47b4f3bf27cc7464322c7fd061cfbe...</td>\n",
       "      <td>397068015</td>\n",
       "      <td>0.033881</td>\n",
       "      <td>2</td>\n",
       "      <td>104</td>\n",
       "      <td>2018-09-25</td>\n",
       "      <td>83</td>\n",
       "      <td>1</td>\n",
       "      <td>0.012048</td>\n",
       "      <td>726</td>\n",
       "      <td>1</td>\n",
       "      <td>1924.033232</td>\n",
       "      <td>0</td>\n",
       "      <td>23.181123</td>\n",
       "    </tr>\n",
       "  </tbody>\n",
       "</table>\n",
       "</div>"
      ],
      "text/plain": [
       "       t_dat                                        customer_id  article_id  \\\n",
       "0 2018-09-20  001127bffdda108579e6cb16080440e89bf1250a776c6e...   397068015   \n",
       "1 2018-09-20  0a13e9a780aece27ca142cefc0dbdaf4b190f3bfa91e44...   397068015   \n",
       "2 2018-09-20  272617d7ffff349ec857032d79490ea1ab2c87ddf5ee22...   397068015   \n",
       "3 2018-09-20  272617d7ffff349ec857032d79490ea1ab2c87ddf5ee22...   397068015   \n",
       "4 2018-09-20  2db722e7da2cdd8b47b4f3bf27cc7464322c7fd061cfbe...   397068015   \n",
       "\n",
       "      price  sales_channel_id  week_num       ldbw  count  count_targ  \\\n",
       "0  0.033881                 1       104 2018-09-25     83           1   \n",
       "1  0.030492                 2       104 2018-09-25     83           1   \n",
       "2  0.033881                 2       104 2018-09-25     83           1   \n",
       "3  0.033881                 2       104 2018-09-25     83           1   \n",
       "4  0.033881                 2       104 2018-09-25     83           1   \n",
       "\n",
       "   quotient    x  dummy_1            y  dummy_0      value  \n",
       "0  0.012048  726        1  1924.033232        0  23.181123  \n",
       "1  0.012048  726        1  1924.033232        0  23.181123  \n",
       "2  0.012048  726        1  1924.033232        0  23.181123  \n",
       "3  0.012048  726        1  1924.033232        0  23.181123  \n",
       "4  0.012048  726        1  1924.033232        0  23.181123  "
      ]
     },
     "execution_count": 36,
     "metadata": {},
     "output_type": "execute_result"
    }
   ],
   "source": [
    "tmp.head()"
   ]
  },
  {
   "cell_type": "code",
   "execution_count": 38,
   "id": "0086e355",
   "metadata": {},
   "outputs": [],
   "source": [
    "new_tmp = tmp.sort_values('t_dat').drop_duplicates(['customer_id', 'article_id'], keep='last')\n"
   ]
  },
  {
   "cell_type": "code",
   "execution_count": 39,
   "id": "2dc53751",
   "metadata": {},
   "outputs": [
    {
     "data": {
      "text/plain": [
       "0.8414221756672874"
      ]
     },
     "execution_count": 39,
     "metadata": {},
     "output_type": "execute_result"
    }
   ],
   "source": [
    "len(new_tmp)/len(tmp)"
   ]
  },
  {
   "cell_type": "code",
   "execution_count": 43,
   "id": "32c4afb6",
   "metadata": {},
   "outputs": [],
   "source": [
    "# rp_cid_col_df.to_csv('./rp_cid_col_df.csv', index=False)\n",
    "# tmp.to_csv('./tmp.csv', index=False)"
   ]
  },
  {
   "cell_type": "code",
   "execution_count": 50,
   "id": "4fa31eb1",
   "metadata": {},
   "outputs": [
    {
     "name": "stdout",
     "output_type": "stream",
     "text": [
      "customer_id  article_id  t_mean  t_purch  t_last  t_first  cnt  denom_customer  num_customer  rcp  prod_name  idxgrp_idx_prdtyp  shape_aid  rate_aid  shape_idxgrp  rate_idxgrp  len_dist  cur_date_min  cur_date_max  t_min  t_max  t_pg_min  t_pg_max  t_min_do_pg  lambda_min  t_max_do_pg  lambda_max  R_ac_min  R_ac_max  ppd_min  ppd_max  \n",
      "################################################################################\n",
      "t_dat  customer_id  article_id  price  sales_channel_id  week_num  ldbw  count  count_targ  quotient  x  dummy_1  y  dummy_0  value  "
     ]
    }
   ],
   "source": [
    "for col in rp_cid_col_df.columns:\n",
    "    print(col, end= '  ')\n",
    "print()\n",
    "print('########'*10)\n",
    "for col in tmp.columns:\n",
    "    print(col, end= '  ')"
   ]
  },
  {
   "cell_type": "markdown",
   "id": "2c917663",
   "metadata": {},
   "source": [
    "# Apply MPG\n",
    "- Apply MPG instead of line fitting"
   ]
  },
  {
   "cell_type": "code",
   "execution_count": 64,
   "id": "2c3ade53",
   "metadata": {},
   "outputs": [],
   "source": [
    "import os\n",
    "import gc\n",
    "\n",
    "import numpy as np\n",
    "import pandas as pd\n",
    "import matplotlib.pyplot as plt\n",
    "\n",
    "from tqdm import tqdm\n",
    "from scipy.optimize import curve_fit\n",
    "from joblib import dump, load\n",
    "\n",
    "\n",
    "import sys\n",
    "sys.path.insert(0, '../')\n",
    "\n",
    "from utils.preprocess import *\n",
    "from utils.evaluate import mapk, apk\n"
   ]
  },
  {
   "cell_type": "code",
   "execution_count": 2,
   "id": "fc5085c2",
   "metadata": {},
   "outputs": [],
   "source": [
    "rp_cols = ['customer_id' , 'article_id','ppd_min' , 'ppd_max', '']\n",
    "\n",
    "# tmp['value'] = tmp['quotient'] * tmp['y'] \n",
    "tmp_cols = ['t_dat','customer_id' , 'article_id'\n",
    "            ,'quotient' , 'value', 'y']\n",
    "\n",
    "rp_cid_col_df = pd.read_csv('./rp_cid_col_df.csv', usecols=rp_cols)\n",
    "tmp = pd.read_csv('./tmp.csv', usecols=tmp_cols)\n"
   ]
  },
  {
   "cell_type": "code",
   "execution_count": 36,
   "id": "d06ed160",
   "metadata": {},
   "outputs": [],
   "source": [
    "new_tmp = pd.merge(tmp, rp_cid_col_df, how='left', on=['customer_id', 'article_id'])\n",
    "\n"
   ]
  },
  {
   "cell_type": "code",
   "execution_count": 37,
   "id": "f7d0e789",
   "metadata": {},
   "outputs": [],
   "source": [
    "new_tmp.loc[new_tmp['ppd_min'] >= 1.0, 'ppd_min'] = 1.0\n",
    "new_tmp.loc[new_tmp['ppd_max'] >= 1.0, 'ppd_max'] = 1.0"
   ]
  },
  {
   "cell_type": "code",
   "execution_count": 38,
   "id": "f836ef0f",
   "metadata": {},
   "outputs": [],
   "source": [
    "nan_aid = new_tmp[new_tmp.ppd_min.isna()]['article_id']"
   ]
  },
  {
   "cell_type": "code",
   "execution_count": 39,
   "id": "d9d03045",
   "metadata": {},
   "outputs": [],
   "source": [
    "from scipy.stats import trim_mean"
   ]
  },
  {
   "cell_type": "code",
   "execution_count": 40,
   "id": "b73b70cc",
   "metadata": {},
   "outputs": [],
   "source": [
    "ppd_min_values = new_tmp.ppd_min.values\n",
    "ppd_max_values = new_tmp.ppd_max.values"
   ]
  },
  {
   "cell_type": "code",
   "execution_count": 41,
   "id": "ae773911",
   "metadata": {},
   "outputs": [],
   "source": [
    "ppd_min_values = ppd_min_values[~np.isnan(ppd_min_values)]\n",
    "ppd_max_values = ppd_max_values[~np.isnan(ppd_max_values)]"
   ]
  },
  {
   "cell_type": "code",
   "execution_count": 42,
   "id": "955c7f48",
   "metadata": {},
   "outputs": [],
   "source": [
    "min_trimmed_mean = trim_mean(ppd_min_values, 0.05)\n",
    "max_trimmed_mean = trim_mean(ppd_max_values, 0.05)"
   ]
  },
  {
   "cell_type": "code",
   "execution_count": 43,
   "id": "9fe4cf25",
   "metadata": {},
   "outputs": [],
   "source": [
    "new_tmp['ppd_min'] = new_tmp.ppd_min.fillna(min_trimmed_mean)\n",
    "new_tmp['ppd_max'] = new_tmp.ppd_max.fillna(max_trimmed_mean)"
   ]
  },
  {
   "cell_type": "code",
   "execution_count": 47,
   "id": "83eecdcc",
   "metadata": {},
   "outputs": [
    {
     "data": {
      "text/plain": [
       "0"
      ]
     },
     "execution_count": 47,
     "metadata": {},
     "output_type": "execute_result"
    }
   ],
   "source": [
    "len(new_tmp[new_tmp.ppd_min.isna()])"
   ]
  },
  {
   "cell_type": "code",
   "execution_count": 49,
   "id": "1a5a26a4",
   "metadata": {},
   "outputs": [],
   "source": [
    "new_tmp['new_value'] = (new_tmp['quotient'] * new_tmp['ppd_min'])\\\n",
    "                        +( new_tmp['quotient'] * new_tmp['ppd_min'])\n"
   ]
  },
  {
   "cell_type": "code",
   "execution_count": 56,
   "id": "696a724e",
   "metadata": {},
   "outputs": [],
   "source": [
    "# 그리고 value를 전체 거래에 대하여 합침\n",
    "tmp = new_tmp.groupby(['customer_id', 'article_id']).agg({'new_value': 'sum'})\n",
    "tmp = tmp.reset_index()\n",
    "\n",
    "tmp['rank'] = tmp.groupby(\"customer_id\")[\"new_value\"].rank(\"dense\", ascending=False)\n",
    "tmp = tmp.loc[tmp['rank'] <= 12]\n",
    "\n",
    "purchase_df = tmp.sort_values(['customer_id', 'new_value'], ascending = False).reset_index(drop = True)\n",
    "\n",
    "\n",
    "\n"
   ]
  },
  {
   "cell_type": "code",
   "execution_count": 57,
   "id": "f5197c7e",
   "metadata": {},
   "outputs": [],
   "source": [
    "purchase_df['prediction'] = '0' + purchase_df['article_id'].astype(str) + ' '\n",
    "purchase_df = purchase_df.groupby('customer_id').agg({'prediction': sum}).reset_index()\n",
    "purchase_df['prediction'] = purchase_df['prediction'].str.strip()"
   ]
  },
  {
   "cell_type": "code",
   "execution_count": 58,
   "id": "0b087eb2",
   "metadata": {},
   "outputs": [
    {
     "name": "stderr",
     "output_type": "stream",
     "text": [
      "/var/folders/fl/l7bfgt6j3lz29pwdkr0_537r0000gn/T/ipykernel_12411/4200427680.py:12: SettingWithCopyWarning: \n",
      "A value is trying to be set on a copy of a slice from a DataFrame.\n",
      "Try using .loc[row_indexer,col_indexer] = value instead\n",
      "\n",
      "See the caveats in the documentation: https://pandas.pydata.org/pandas-docs/stable/user_guide/indexing.html#returning-a-view-versus-a-copy\n",
      "  train_df['t_dat'] = pd.to_datetime(train_df.t_dat)\n",
      "/var/folders/fl/l7bfgt6j3lz29pwdkr0_537r0000gn/T/ipykernel_12411/4200427680.py:13: SettingWithCopyWarning: \n",
      "A value is trying to be set on a copy of a slice from a DataFrame.\n",
      "Try using .loc[row_indexer,col_indexer] = value instead\n",
      "\n",
      "See the caveats in the documentation: https://pandas.pydata.org/pandas-docs/stable/user_guide/indexing.html#returning-a-view-versus-a-copy\n",
      "  val_df['t_dat'] = pd.to_datetime(val_df.t_dat)\n"
     ]
    }
   ],
   "source": [
    "folder = '../../../h-and-m-recommender/data/'\n",
    "\n",
    "art_df = pd.read_csv(os.path.join(folder, \"articles.csv\"))\n",
    "cus_df = pd.read_csv(os.path.join(folder, \"customers.csv\"))\n",
    "trans_df = pd.read_csv(os.path.join(folder, \"transactions_train.csv\"))\n",
    "\n",
    "trans_df = make_weeknum_col(trans_df)\n",
    "# week_num 0 is latest week of the transaction\n",
    "train_df, val_df = split_train_valid(trans_df, 0)\n",
    "# val_df = valid2submission(val_df)\n",
    "\n",
    "train_df['t_dat'] = pd.to_datetime(train_df.t_dat)\n",
    "val_df['t_dat'] = pd.to_datetime(val_df.t_dat)"
   ]
  },
  {
   "cell_type": "code",
   "execution_count": 62,
   "id": "7b24e0ef",
   "metadata": {},
   "outputs": [],
   "source": [
    "validation_df = valid2submission(val_df)\n"
   ]
  },
  {
   "cell_type": "code",
   "execution_count": 60,
   "id": "3bf79e6b",
   "metadata": {},
   "outputs": [],
   "source": [
    "pred_df = pd.merge(purchase_df, cus_df['customer_id'], on='customer_id', how='right')\n",
    "pred_df.fillna('', inplace=True)\n",
    "\n",
    "\n"
   ]
  },
  {
   "cell_type": "code",
   "execution_count": 63,
   "id": "e48e2b29",
   "metadata": {},
   "outputs": [
    {
     "data": {
      "text/plain": [
       "0.003082838888397595"
      ]
     },
     "execution_count": 63,
     "metadata": {},
     "output_type": "execute_result"
    }
   ],
   "source": [
    "merged= pd.merge(purchase_df, validation_df, on='customer_id', how='inner')\n",
    "\n",
    "mapk(\n",
    "    merged['article_id'].map(lambda x: x.split()), \n",
    "    merged['prediction'].map(lambda x: x.split()), \n",
    "    k=12\n",
    ")"
   ]
  },
  {
   "cell_type": "markdown",
   "id": "64d67440",
   "metadata": {},
   "source": [
    "# Apply RCP\n",
    "- add RCP on value\n",
    "\n",
    "- without outliers\n",
    "\n",
    "customer_id  article_id  t_mean  t_purch  t_last  t_first  cnt  denom_customer  num_customer  rcp  prod_name  idxgrp_idx_prdtyp  shape_aid  rate_aid  shape_idxgrp  rate_idxgrp  len_dist  cur_date_min  cur_date_max  t_min  t_max  t_pg_min  t_pg_max  t_min_do_pg  lambda_min  t_max_do_pg  lambda_max  R_ac_min  R_ac_max  ppd_min  ppd_max  \n",
    "################################################################################\n",
    "t_dat  customer_id  article_id  price  sales_channel_id  week_num  ldbw  count  count_targ  quotient  x  dummy_1  y  dummy_0  value  "
   ]
  },
  {
   "cell_type": "code",
   "execution_count": 1,
   "id": "53a9a2d2",
   "metadata": {},
   "outputs": [],
   "source": [
    "import os\n",
    "import gc\n",
    "\n",
    "import numpy as np\n",
    "import pandas as pd\n",
    "import matplotlib.pyplot as plt\n",
    "\n",
    "from tqdm import tqdm\n",
    "from scipy.optimize import curve_fit\n",
    "from joblib import dump, load\n",
    "\n",
    "\n",
    "import sys\n",
    "sys.path.insert(0, '../')\n",
    "\n",
    "from utils.preprocess import *\n",
    "from utils.evaluate import mapk, apk\n"
   ]
  },
  {
   "cell_type": "code",
   "execution_count": 25,
   "id": "50a2021c",
   "metadata": {},
   "outputs": [],
   "source": [
    "rp_cols = ['customer_id' , 'article_id','ppd_min' , 'ppd_max', 'rcp', 'denom_customer', 'num_customer', 'idxgrp_idx_prdtyp']\n",
    "\n",
    "# tmp['value'] = tmp['quotient'] * tmp['y'] \n",
    "tmp_cols = ['t_dat','customer_id' , 'article_id'\n",
    "            ,'quotient' , 'value', 'y']\n",
    "\n",
    "rp_cid_col_df = pd.read_csv('./rp_cid_col_df.csv', usecols=rp_cols)\n",
    "tmp = pd.read_csv('./tmp.csv', usecols=tmp_cols)\n"
   ]
  },
  {
   "cell_type": "code",
   "execution_count": 93,
   "id": "72b3606f",
   "metadata": {},
   "outputs": [],
   "source": [
    "rp_aid = rp_cid_col_df.groupby('article_id')[['article_id','rcp', 'idxgrp_idx_prdtyp','denom_customer', 'num_customer']].tail()\n",
    "\n"
   ]
  },
  {
   "cell_type": "code",
   "execution_count": 95,
   "id": "3f740627",
   "metadata": {},
   "outputs": [],
   "source": [
    "q1, q3 = np.percentile(rp_aid.rcp, [25,75])\n",
    "iqr = q3-q1\n",
    "\n",
    "l_bound = q1 - (iqr * 1.5)\n",
    "r_bound = q3 + (iqr * 1.5)"
   ]
  },
  {
   "cell_type": "code",
   "execution_count": 96,
   "id": "15a28ea4",
   "metadata": {},
   "outputs": [],
   "source": [
    "normal_df = rp_aid[(rp_aid.rcp > l_bound) & (rp_aid.rcp < r_bound) & (rp_aid.denom_customer >= 50)]\n",
    "rp_idxgrp = pd.DataFrame(normal_df.groupby('idxgrp_idx_prdtyp')['rcp'].mean()).reset_index()\n"
   ]
  },
  {
   "cell_type": "code",
   "execution_count": 101,
   "id": "e5a05d9e",
   "metadata": {},
   "outputs": [],
   "source": [
    "rp_idxgrp.columns = ['idxgrp_idx_prdtyp', 'idxgrp_rcp']"
   ]
  },
  {
   "cell_type": "code",
   "execution_count": 104,
   "id": "7138411d",
   "metadata": {},
   "outputs": [],
   "source": [
    "new_tmp = pd.merge(tmp, normal_df, how='left', on=['article_id'])\n",
    "new_tmp = pd.merge(new_tmp, rp_idxgrp, how='left', on=['idxgrp_idx_prdtyp'])"
   ]
  },
  {
   "cell_type": "code",
   "execution_count": 105,
   "id": "6a325f08",
   "metadata": {},
   "outputs": [
    {
     "data": {
      "text/html": [
       "<div>\n",
       "<style scoped>\n",
       "    .dataframe tbody tr th:only-of-type {\n",
       "        vertical-align: middle;\n",
       "    }\n",
       "\n",
       "    .dataframe tbody tr th {\n",
       "        vertical-align: top;\n",
       "    }\n",
       "\n",
       "    .dataframe thead th {\n",
       "        text-align: right;\n",
       "    }\n",
       "</style>\n",
       "<table border=\"1\" class=\"dataframe\">\n",
       "  <thead>\n",
       "    <tr style=\"text-align: right;\">\n",
       "      <th></th>\n",
       "      <th>t_dat</th>\n",
       "      <th>customer_id</th>\n",
       "      <th>article_id</th>\n",
       "      <th>quotient</th>\n",
       "      <th>y</th>\n",
       "      <th>value</th>\n",
       "      <th>rcp</th>\n",
       "      <th>idxgrp_idx_prdtyp</th>\n",
       "      <th>denom_customer</th>\n",
       "      <th>num_customer</th>\n",
       "      <th>idxgrp_rcp</th>\n",
       "    </tr>\n",
       "  </thead>\n",
       "  <tbody>\n",
       "    <tr>\n",
       "      <th>0</th>\n",
       "      <td>2018-09-20</td>\n",
       "      <td>001127bffdda108579e6cb16080440e89bf1250a776c6e...</td>\n",
       "      <td>397068015</td>\n",
       "      <td>0.012048</td>\n",
       "      <td>1924.033232</td>\n",
       "      <td>23.181123</td>\n",
       "      <td>0.052555</td>\n",
       "      <td>Menswear_Menswear_Trousers</td>\n",
       "      <td>2074.0</td>\n",
       "      <td>109.0</td>\n",
       "      <td>0.049513</td>\n",
       "    </tr>\n",
       "    <tr>\n",
       "      <th>1</th>\n",
       "      <td>2018-09-20</td>\n",
       "      <td>001127bffdda108579e6cb16080440e89bf1250a776c6e...</td>\n",
       "      <td>397068015</td>\n",
       "      <td>0.012048</td>\n",
       "      <td>1924.033232</td>\n",
       "      <td>23.181123</td>\n",
       "      <td>0.052555</td>\n",
       "      <td>Menswear_Menswear_Trousers</td>\n",
       "      <td>2074.0</td>\n",
       "      <td>109.0</td>\n",
       "      <td>0.049513</td>\n",
       "    </tr>\n",
       "    <tr>\n",
       "      <th>2</th>\n",
       "      <td>2018-09-20</td>\n",
       "      <td>001127bffdda108579e6cb16080440e89bf1250a776c6e...</td>\n",
       "      <td>397068015</td>\n",
       "      <td>0.012048</td>\n",
       "      <td>1924.033232</td>\n",
       "      <td>23.181123</td>\n",
       "      <td>0.052555</td>\n",
       "      <td>Menswear_Menswear_Trousers</td>\n",
       "      <td>2074.0</td>\n",
       "      <td>109.0</td>\n",
       "      <td>0.049513</td>\n",
       "    </tr>\n",
       "    <tr>\n",
       "      <th>3</th>\n",
       "      <td>2018-09-20</td>\n",
       "      <td>001127bffdda108579e6cb16080440e89bf1250a776c6e...</td>\n",
       "      <td>397068015</td>\n",
       "      <td>0.012048</td>\n",
       "      <td>1924.033232</td>\n",
       "      <td>23.181123</td>\n",
       "      <td>0.052555</td>\n",
       "      <td>Menswear_Menswear_Trousers</td>\n",
       "      <td>2074.0</td>\n",
       "      <td>109.0</td>\n",
       "      <td>0.049513</td>\n",
       "    </tr>\n",
       "    <tr>\n",
       "      <th>4</th>\n",
       "      <td>2018-09-20</td>\n",
       "      <td>001127bffdda108579e6cb16080440e89bf1250a776c6e...</td>\n",
       "      <td>397068015</td>\n",
       "      <td>0.012048</td>\n",
       "      <td>1924.033232</td>\n",
       "      <td>23.181123</td>\n",
       "      <td>0.052555</td>\n",
       "      <td>Menswear_Menswear_Trousers</td>\n",
       "      <td>2074.0</td>\n",
       "      <td>109.0</td>\n",
       "      <td>0.049513</td>\n",
       "    </tr>\n",
       "  </tbody>\n",
       "</table>\n",
       "</div>"
      ],
      "text/plain": [
       "        t_dat                                        customer_id  article_id  \\\n",
       "0  2018-09-20  001127bffdda108579e6cb16080440e89bf1250a776c6e...   397068015   \n",
       "1  2018-09-20  001127bffdda108579e6cb16080440e89bf1250a776c6e...   397068015   \n",
       "2  2018-09-20  001127bffdda108579e6cb16080440e89bf1250a776c6e...   397068015   \n",
       "3  2018-09-20  001127bffdda108579e6cb16080440e89bf1250a776c6e...   397068015   \n",
       "4  2018-09-20  001127bffdda108579e6cb16080440e89bf1250a776c6e...   397068015   \n",
       "\n",
       "   quotient            y      value       rcp           idxgrp_idx_prdtyp  \\\n",
       "0  0.012048  1924.033232  23.181123  0.052555  Menswear_Menswear_Trousers   \n",
       "1  0.012048  1924.033232  23.181123  0.052555  Menswear_Menswear_Trousers   \n",
       "2  0.012048  1924.033232  23.181123  0.052555  Menswear_Menswear_Trousers   \n",
       "3  0.012048  1924.033232  23.181123  0.052555  Menswear_Menswear_Trousers   \n",
       "4  0.012048  1924.033232  23.181123  0.052555  Menswear_Menswear_Trousers   \n",
       "\n",
       "   denom_customer  num_customer  idxgrp_rcp  \n",
       "0          2074.0         109.0    0.049513  \n",
       "1          2074.0         109.0    0.049513  \n",
       "2          2074.0         109.0    0.049513  \n",
       "3          2074.0         109.0    0.049513  \n",
       "4          2074.0         109.0    0.049513  "
      ]
     },
     "execution_count": 105,
     "metadata": {},
     "output_type": "execute_result"
    }
   ],
   "source": [
    "new_tmp.head()"
   ]
  },
  {
   "cell_type": "code",
   "execution_count": 110,
   "id": "02147799",
   "metadata": {},
   "outputs": [],
   "source": [
    "new_tmp['rcp'] = new_tmp.rcp.fillna(new_tmp.rcp.mean())"
   ]
  },
  {
   "cell_type": "code",
   "execution_count": 111,
   "id": "963930e5",
   "metadata": {},
   "outputs": [],
   "source": [
    "new_tmp['new_value'] = new_tmp['value'] * new_tmp['rcp']"
   ]
  },
  {
   "cell_type": "code",
   "execution_count": 112,
   "id": "e5f8f244",
   "metadata": {},
   "outputs": [],
   "source": [
    "new_tmp['rank'] = new_tmp.groupby(\"customer_id\")[\"new_value\"].rank(\"dense\", ascending=False)\n",
    "new_tmp = new_tmp.loc[new_tmp['rank'] <= 12]\n"
   ]
  },
  {
   "cell_type": "code",
   "execution_count": 113,
   "id": "a9816e3f",
   "metadata": {},
   "outputs": [],
   "source": [
    "\n",
    "purchase_df = new_tmp.sort_values(['customer_id', 'new_value'], ascending = False).reset_index(drop = True)\n",
    "purchase_df['prediction'] = '0' + purchase_df['article_id'].astype(str) + ' '\n",
    "purchase_df = purchase_df.groupby('customer_id').agg({'prediction': sum}).reset_index()\n",
    "purchase_df['prediction'] = purchase_df['prediction'].str.strip()"
   ]
  },
  {
   "cell_type": "code",
   "execution_count": 114,
   "id": "df49a6a3",
   "metadata": {},
   "outputs": [
    {
     "name": "stderr",
     "output_type": "stream",
     "text": [
      "/var/folders/fl/l7bfgt6j3lz29pwdkr0_537r0000gn/T/ipykernel_40964/3490923609.py:11: SettingWithCopyWarning: \n",
      "A value is trying to be set on a copy of a slice from a DataFrame.\n",
      "Try using .loc[row_indexer,col_indexer] = value instead\n",
      "\n",
      "See the caveats in the documentation: https://pandas.pydata.org/pandas-docs/stable/user_guide/indexing.html#returning-a-view-versus-a-copy\n",
      "  val_df['t_dat'] = pd.to_datetime(val_df.t_dat)\n"
     ]
    }
   ],
   "source": [
    "folder = '../../../h-and-m-recommender/data/'\n",
    "\n",
    "art_df = pd.read_csv(os.path.join(folder, \"articles.csv\"))\n",
    "cus_df = pd.read_csv(os.path.join(folder, \"customers.csv\"))\n",
    "trans_df = pd.read_csv(os.path.join(folder, \"transactions_train.csv\"))\n",
    "\n",
    "trans_df = make_weeknum_col(trans_df)\n",
    "# week_num 0 is latest week of the transaction\n",
    "_, val_df = split_train_valid(trans_df, 0)\n",
    "\n",
    "val_df['t_dat'] = pd.to_datetime(val_df.t_dat)\n",
    "\n",
    "validation_df = valid2submission(val_df)"
   ]
  },
  {
   "cell_type": "code",
   "execution_count": 115,
   "id": "d348b64f",
   "metadata": {},
   "outputs": [
    {
     "data": {
      "text/plain": [
       "0.01852211651757595"
      ]
     },
     "execution_count": 115,
     "metadata": {},
     "output_type": "execute_result"
    }
   ],
   "source": [
    "pred_df = pd.merge(purchase_df, cus_df['customer_id'], on='customer_id', how='right')\n",
    "pred_df.fillna('', inplace=True)\n",
    "\n",
    "\n",
    "merged= pd.merge(purchase_df, validation_df, on='customer_id', how='inner')\n",
    "\n",
    "mapk(\n",
    "    merged['article_id'].map(lambda x: x.split()), \n",
    "    merged['prediction'].map(lambda x: x.split()), \n",
    "    k=12\n",
    ")"
   ]
  },
  {
   "cell_type": "markdown",
   "id": "339d788c",
   "metadata": {},
   "source": [
    "# Apply RCP\n",
    "- add RCP on value with outliers"
   ]
  },
  {
   "cell_type": "code",
   "execution_count": null,
   "id": "a289f8cb",
   "metadata": {},
   "outputs": [],
   "source": [
    "import os\n",
    "import gc\n",
    "\n",
    "import numpy as np\n",
    "import pandas as pd\n",
    "import matplotlib.pyplot as plt\n",
    "\n",
    "from tqdm import tqdm\n",
    "from scipy.optimize import curve_fit\n",
    "from joblib import dump, load\n",
    "\n",
    "\n",
    "import sys\n",
    "sys.path.insert(0, '../')\n",
    "\n",
    "from utils.preprocess import *\n",
    "from utils.evaluate import mapk, apk\n",
    "\n",
    "\n",
    "\n",
    "rp_cols = ['customer_id' , 'article_id','ppd_min' , 'ppd_max', 'rcp', 'denom_customer', 'num_customer', 'idxgrp_idx_prdtyp']\n",
    "\n",
    "# tmp['value'] = tmp['quotient'] * tmp['y'] \n",
    "tmp_cols = ['t_dat','customer_id' , 'article_id'\n",
    "            ,'quotient' , 'value', 'y']\n",
    "\n",
    "rp_cid_col_df = pd.read_csv('./rp_cid_col_df.csv', usecols=rp_cols)\n",
    "tmp = pd.read_csv('./tmp.csv', usecols=tmp_cols)\n",
    "\n",
    "new_tmp = pd.merge(tmp, rp_cid_col_df, how='left', on=['customer_id', 'article_id'])\n"
   ]
  },
  {
   "cell_type": "code",
   "execution_count": null,
   "id": "66234b8f",
   "metadata": {},
   "outputs": [],
   "source": [
    "new_tmp['new_value'] = new_tmp['value'] * new_tmp['rcp']"
   ]
  },
  {
   "cell_type": "code",
   "execution_count": 7,
   "id": "6370953e",
   "metadata": {},
   "outputs": [],
   "source": [
    "new_tmp['rank'] = new_tmp.groupby(\"customer_id\")[\"new_value\"].rank(\"dense\", ascending=False)\n",
    "new_tmp = new_tmp.loc[new_tmp['rank'] <= 12]\n"
   ]
  },
  {
   "cell_type": "code",
   "execution_count": 8,
   "id": "ae1e667c",
   "metadata": {},
   "outputs": [],
   "source": [
    "\n",
    "purchase_df = new_tmp.sort_values(['customer_id', 'new_value'], ascending = False).reset_index(drop = True)\n"
   ]
  },
  {
   "cell_type": "code",
   "execution_count": 9,
   "id": "c6ca4592",
   "metadata": {},
   "outputs": [],
   "source": [
    "purchase_df['prediction'] = '0' + purchase_df['article_id'].astype(str) + ' '\n",
    "purchase_df = purchase_df.groupby('customer_id').agg({'prediction': sum}).reset_index()\n",
    "purchase_df['prediction'] = purchase_df['prediction'].str.strip()"
   ]
  },
  {
   "cell_type": "code",
   "execution_count": 10,
   "id": "4841d787",
   "metadata": {},
   "outputs": [
    {
     "name": "stderr",
     "output_type": "stream",
     "text": [
      "/var/folders/fl/l7bfgt6j3lz29pwdkr0_537r0000gn/T/ipykernel_40964/3629485220.py:11: SettingWithCopyWarning: \n",
      "A value is trying to be set on a copy of a slice from a DataFrame.\n",
      "Try using .loc[row_indexer,col_indexer] = value instead\n",
      "\n",
      "See the caveats in the documentation: https://pandas.pydata.org/pandas-docs/stable/user_guide/indexing.html#returning-a-view-versus-a-copy\n",
      "  val_df['t_dat'] = pd.to_datetime(val_df.t_dat)\n"
     ]
    }
   ],
   "source": [
    "folder = '../../../h-and-m-recommender/data/'\n",
    "\n",
    "art_df = pd.read_csv(os.path.join(folder, \"articles.csv\"))\n",
    "cus_df = pd.read_csv(os.path.join(folder, \"customers.csv\"))\n",
    "trans_df = pd.read_csv(os.path.join(folder, \"transactions_train.csv\"))\n",
    "\n",
    "trans_df = make_weeknum_col(trans_df)\n",
    "# week_num 0 is latest week of the transaction\n",
    "_, val_df = split_train_valid(trans_df, 0)\n",
    "\n",
    "val_df['t_dat'] = pd.to_datetime(val_df.t_dat)"
   ]
  },
  {
   "cell_type": "code",
   "execution_count": 11,
   "id": "3047a749",
   "metadata": {},
   "outputs": [],
   "source": [
    "validation_df = valid2submission(val_df)"
   ]
  },
  {
   "cell_type": "code",
   "execution_count": 12,
   "id": "057d41bc",
   "metadata": {},
   "outputs": [],
   "source": [
    "pred_df = pd.merge(purchase_df, cus_df['customer_id'], on='customer_id', how='right')\n",
    "pred_df.fillna('', inplace=True)"
   ]
  },
  {
   "cell_type": "code",
   "execution_count": 13,
   "id": "5c09dfa3",
   "metadata": {},
   "outputs": [
    {
     "data": {
      "text/plain": [
       "0.025151207075566312"
      ]
     },
     "execution_count": 13,
     "metadata": {},
     "output_type": "execute_result"
    }
   ],
   "source": [
    "merged= pd.merge(purchase_df, validation_df, on='customer_id', how='inner')\n",
    "\n",
    "mapk(\n",
    "    merged['article_id'].map(lambda x: x.split()), \n",
    "    merged['prediction'].map(lambda x: x.split()), \n",
    "    k=12\n",
    ")"
   ]
  }
 ],
 "metadata": {
  "kernelspec": {
   "display_name": "torch",
   "language": "python",
   "name": "torch"
  },
  "language_info": {
   "codemirror_mode": {
    "name": "ipython",
    "version": 3
   },
   "file_extension": ".py",
   "mimetype": "text/x-python",
   "name": "python",
   "nbconvert_exporter": "python",
   "pygments_lexer": "ipython3",
   "version": "3.8.13"
  }
 },
 "nbformat": 4,
 "nbformat_minor": 5
}
