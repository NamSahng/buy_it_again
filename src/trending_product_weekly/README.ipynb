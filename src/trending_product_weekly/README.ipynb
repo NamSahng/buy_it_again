{
 "cells": [
  {
   "cell_type": "markdown",
   "metadata": {},
   "source": [
    "# Trending Product Weekly\n",
    "\n",
    "\n",
    "## Prediction\n",
    "$$ V_{A_{i}C_{j}} = \\Sigma_{m=1}^{n} value_{m} $$\n",
    "- $m$: full transaction history for products traded within the last week\n",
    "- $ V_{A_{i}C_{j}} <= 100 $ are not used.\n",
    "- rank values and predict top 12\n",
    "  \n",
    "\n",
    "### value\n",
    "- $ value_{m} = q_{m} \\times f(t_{m}) $\n",
    "\n",
    "\n",
    "### $f(t)$ \n",
    "- curve fiton formula below with time interval data $t_{A_{i},C_{j}}$\n",
    "$$ f(t) = {{a}\\over{\\sqrt{t_{A_{i},C_{j}}}}} + b\\exp(-c \\times t_{A_{i},C_{j}}) + d  $$\n",
    "- $ t_{A_{i},C_{j}}$: time interval of Customer Ci on product Ai \n",
    "\n",
    "### quotients\n",
    "- if Ai has been sold on last week\n",
    "$$ q_{m} = {{\\text{num of sales on Ai in week k}}\\over{\\text{num of sales on Ai in last week of train set }}} $$\n",
    "- else:\n",
    "$$ q_{m} = 0 $$\n",
    "\n",
    "\n",
    "## Modification Trials\n",
    "\n",
    "- $ value_{m} = q_{m} \\times f(t_{m}) \\times MPG $\n",
    "- $ value_{m} = q_{m} \\times MPG $\n",
    "- $ value_{m} = q_{m} \\times f(t_{m}) \\times RCP $\n",
    "\n",
    "\n",
    "## Result \n",
    "- original\n",
    "    - Validation(last week) with value cut off at 100:\n",
    "        - MAP@12: 0.022690\n",
    "    - test private\n",
    "        - MAP@12 : 0.02165\n",
    "    - test public \n",
    "        - MAP@12 : 0.02137\n",
    "    - Validation(last week) without value cut off at 100:\n",
    "        - MAP@12: 0.021569\n",
    "- original + RCP \n",
    "    - Validation(last week)\n",
    "        - MAP@12: 0.023080\n",
    "    - test private\n",
    "        - MAP@12 : 0.02125\n",
    "    - test public \n",
    "        - MAP@12 : 0.02114\n",
    "\n",
    "\n",
    "## References:\n",
    "- https://www.kaggle.com/code/byfone/h-m-trending-products-weekly\n",
    "- https://www.kaggle.com/code/hervind/h-m-faster-trending-products-weekly/notebook\n",
    "- https://www.kaggle.com/code/byfone/h-m-purchases-in-a-row/notebook\n",
    "- https://github.com/NamSahng/h-and-m-recommender/tree/main/src/buyitagain\n",
    "\n"
   ]
  }
 ],
 "metadata": {
  "kernelspec": {
   "display_name": "Python 3.8.13 ('my_env')",
   "language": "python",
   "name": "python3"
  },
  "language_info": {
   "name": "python",
   "version": "3.8.13"
  },
  "orig_nbformat": 4,
  "vscode": {
   "interpreter": {
    "hash": "b62de413df94ebb4316b1736a4e2bac4ccd60957f39ce3359f241c30be8cf97e"
   }
  }
 },
 "nbformat": 4,
 "nbformat_minor": 2
}
